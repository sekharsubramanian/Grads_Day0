{
  "nbformat": 4,
  "nbformat_minor": 0,
  "metadata": {
    "colab": {
      "name": "Welcome To Colaboratory",
      "provenance": [],
      "collapsed_sections": [],
      "include_colab_link": true
    },
    "kernelspec": {
      "display_name": "Python 3",
      "name": "python3"
    }
  },
  "cells": [
    {
      "cell_type": "markdown",
      "metadata": {
        "id": "view-in-github",
        "colab_type": "text"
      },
      "source": [
        "<a href=\"https://colab.research.google.com/github/tulikagoyal04/Grads_Day0/blob/master/Welcome_To_Colaboratory.ipynb\" target=\"_parent\"><img src=\"https://colab.research.google.com/assets/colab-badge.svg\" alt=\"Open In Colab\"/></a>"
      ]
    },
    {
      "cell_type": "markdown",
      "metadata": {
        "id": "5fCEDCU_qrC0"
      },
      "source": [
        "<p><img alt=\"Colaboratory logo\" height=\"45px\" src=\"/img/colab_favicon.ico\" align=\"left\" hspace=\"10px\" vspace=\"0px\"></p>\n",
        "\n",
        "<h1>What is Colaboratory?</h1>\n",
        "\n",
        "Colaboratory, or \"Colab\" for short, allows you to write and execute Python in your browser, with \n",
        "- Zero configuration required\n",
        "- Free access to GPUs\n",
        "- Easy sharing\n",
        "\n",
        "Whether you're a **student**, a **data scientist** or an **AI researcher**, Colab can make your work easier. Watch [Introduction to Colab](https://www.youtube.com/watch?v=inN8seMm7UI) to learn more, or just get started below!"
      ]
    },
    {
      "cell_type": "markdown",
      "metadata": {
        "id": "GJBs_flRovLc"
      },
      "source": [
        "## **Getting started**\n",
        "\n",
        "The document you are reading is not a static web page, but an interactive environment called a **Colab notebook** that lets you write and execute code.\n",
        "\n",
        "For example, here is a **code cell** with a short Python script that computes a value, stores it in a variable, and prints the result:"
      ]
    },
    {
      "cell_type": "code",
      "metadata": {
        "id": "gJr_9dXGpJ05",
        "outputId": "9f556d03-ec67-4950-a485-cfdba9ddd14d",
        "colab": {
          "base_uri": "https://localhost:8080/",
          "height": 34
        }
      },
      "source": [
        "seconds_in_a_day = 24 * 60 * 60\n",
        "seconds_in_a_day"
      ],
      "execution_count": null,
      "outputs": [
        {
          "output_type": "execute_result",
          "data": {
            "text/plain": [
              "86400"
            ]
          },
          "metadata": {
            "tags": []
          },
          "execution_count": 0
        }
      ]
    },
    {
      "cell_type": "markdown",
      "metadata": {
        "id": "2fhs6GZ4qFMx"
      },
      "source": [
        "To execute the code in the above cell, select it with a click and then either press the play button to the left of the code, or use the keyboard shortcut \"Command/Ctrl+Enter\". To edit the code, just click the cell and start editing.\n",
        "\n",
        "Variables that you define in one cell can later be used in other cells:"
      ]
    },
    {
      "cell_type": "code",
      "metadata": {
        "id": "-gE-Ez1qtyIA",
        "outputId": "94cb2224-0edf-457b-90b5-0ac3488d8a97",
        "colab": {
          "base_uri": "https://localhost:8080/",
          "height": 34
        }
      },
      "source": [
        "seconds_in_a_week = 7 * seconds_in_a_day\n",
        "seconds_in_a_week"
      ],
      "execution_count": null,
      "outputs": [
        {
          "output_type": "execute_result",
          "data": {
            "text/plain": [
              "604800"
            ]
          },
          "metadata": {
            "tags": []
          },
          "execution_count": 0
        }
      ]
    },
    {
      "cell_type": "markdown",
      "metadata": {
        "id": "lSrWNr3MuFUS"
      },
      "source": [
        "Colab notebooks allow you to combine **executable code** and **rich text** in a single document, along with **images**, **HTML**, **LaTeX** and more. When you create your own Colab notebooks, they are stored in your Google Drive account. You can easily share your Colab notebooks with co-workers or friends, allowing them to comment on your notebooks or even edit them. To learn more, see [Overview of Colab](/notebooks/basic_features_overview.ipynb). To create a new Colab notebook you can use the File menu above, or use the following link: [create a new Colab notebook](http://colab.research.google.com#create=true).\n",
        "\n",
        "Colab notebooks are Jupyter notebooks that are hosted by Colab. To learn more about the Jupyter project, see [jupyter.org](https://www.jupyter.org)."
      ]
    },
    {
      "cell_type": "markdown",
      "metadata": {
        "id": "UdRyKR44dcNI"
      },
      "source": [
        "## Data science\n",
        "\n",
        "With Colab you can harness the full power of popular Python libraries to analyze and visualize data. The code cell below uses **numpy** to generate some random data, and uses **matplotlib** to visualize it. To edit the code, just click the cell and start editing."
      ]
    },
    {
      "cell_type": "code",
      "metadata": {
        "id": "C4HZx7Gndbrh",
        "outputId": "46abc637-6abd-41b2-9bba-80a7ae992e06",
        "colab": {
          "base_uri": "https://localhost:8080/",
          "height": 281
        }
      },
      "source": [
        "import numpy as np\n",
        "from matplotlib import pyplot as plt\n",
        "\n",
        "ys = 200 + np.random.randn(100)\n",
        "x = [x for x in range(len(ys))]\n",
        "\n",
        "plt.plot(x, ys, '-')\n",
        "plt.fill_between(x, ys, 195, where=(ys > 195), facecolor='g', alpha=0.6)\n",
        "\n",
        "plt.title(\"Sample Visualization\")\n",
        "plt.show()"
      ],
      "execution_count": null,
      "outputs": [
        {
          "output_type": "display_data",
          "data": {
            "image/png": "[encoded data removed]",
            "text/plain": [
              "<Figure size 432x288 with 1 Axes>"
            ]
          },
          "metadata": {
            "tags": []
          }
        }
      ]
    },
    {
      "cell_type": "markdown",
      "metadata": {
        "id": "4_kCnsPUqS6o"
      },
      "source": [
        "You can import your own data into Colab notebooks from your Google Drive account, including from spreadsheets, as well as from Github and many other sources. To learn more about importing data, and how Colab can be used for data science, see the links below under [Working with Data](#working-with-data)."
      ]
    },
    {
      "cell_type": "markdown",
      "metadata": {
        "id": "OwuxHmxllTwN"
      },
      "source": [
        "## Machine learning\n",
        "\n",
        "With Colab you can import an image dataset, train an image classifier on it, and evaluate the model, all in just [a few lines of code](https://colab.research.google.com/github/tensorflow/docs/blob/master/site/en/tutorials/quickstart/beginner.ipynb). Colab notebooks execute code on Google's cloud servers, meaning you can leverage the power of Google hardware, including [GPUs and TPUs](#using-accelerated-hardware), regardless of the power of your machine. All you need is a browser."
      ]
    },
    {
      "cell_type": "markdown",
      "metadata": {
        "id": "ufxBm1yRnruN"
      },
      "source": [
        "Colab is used extensively in the machine learning community with applications including:\n",
        "- Getting started with TensorFlow\n",
        "- Developing and training neural networks\n",
        "- Experimenting with TPUs\n",
        "- Disseminating AI research\n",
        "- Creating tutorials\n",
        "\n",
        "To see sample Colab notebooks that demonstrate machine learning applications, see the [machine learning examples](#machine-learning-examples) below."
      ]
    },
    {
      "cell_type": "markdown",
      "metadata": {
        "id": "-Rh3-Vt9Nev9"
      },
      "source": [
        "## More Resources\n",
        "\n",
        "### Working with Notebooks in Colab\n",
        "- [Overview of Colaboratory](/notebooks/basic_features_overview.ipynb)\n",
        "- [Guide to Markdown](/notebooks/markdown_guide.ipynb)\n",
        "- [Importing libraries and installing dependencies](/notebooks/snippets/importing_libraries.ipynb)\n",
        "- [Saving and loading notebooks in GitHub](https://colab.research.google.com/github/googlecolab/colabtools/blob/master/notebooks/colab-github-demo.ipynb)\n",
        "- [Interactive forms](/notebooks/forms.ipynb)\n",
        "- [Interactive widgets](/notebooks/widgets.ipynb)\n",
        "- <img src=\"/img/new.png\" height=\"20px\" align=\"left\" hspace=\"4px\" alt=\"New\"></img>\n",
        " [TensorFlow 2 in Colab](/notebooks/tensorflow_version.ipynb)\n",
        "\n",
        "<a name=\"working-with-data\"></a>\n",
        "### Working with Data\n",
        "- [Loading data: Drive, Sheets, and Google Cloud Storage](/notebooks/io.ipynb) \n",
        "- [Charts: visualizing data](/notebooks/charts.ipynb)\n",
        "- [Getting started with BigQuery](/notebooks/bigquery.ipynb)\n",
        "\n",
        "### Machine Learning Crash Course\n",
        "These are a few of the notebooks from Google's online Machine Learning course. See the [full course website](https://developers.google.com/machine-learning/crash-course/) for more.\n",
        "- [Intro to Pandas](/notebooks/mlcc/intro_to_pandas.ipynb)\n",
        "- [Tensorflow concepts](/notebooks/mlcc/tensorflow_programming_concepts.ipynb)\n",
        "- [First steps with TensorFlow](/notebooks/mlcc/first_steps_with_tensor_flow.ipynb)\n",
        "- [Intro to neural nets](/notebooks/mlcc/intro_to_neural_nets.ipynb)\n",
        "- [Intro to sparse data and embeddings](/notebooks/mlcc/intro_to_sparse_data_and_embeddings.ipynb)\n",
        "\n",
        "<a name=\"using-accelerated-hardware\"></a>\n",
        "### Using Accelerated Hardware\n",
        "- [TensorFlow with GPUs](/notebooks/gpu.ipynb)\n",
        "- [TensorFlow with TPUs](/notebooks/tpu.ipynb)"
      ]
    },
    {
      "cell_type": "markdown",
      "metadata": {
        "id": "P-H6Lw1vyNNd"
      },
      "source": [
        "<a name=\"machine-learning-examples\"></a>\n",
        "\n",
        "## Machine Learning Examples\n",
        "\n",
        "To see end-to-end examples of the interactive machine learning analyses that Colaboratory makes possible, check out these  tutorials using models from [TensorFlow Hub](https://tfhub.dev).\n",
        "\n",
        "A few featured examples:\n",
        "\n",
        "- [Retraining an Image Classifier](https://tensorflow.org/hub/tutorials/tf2_image_retraining): Build a Keras model on top of a pre-trained image classifier to distinguish flowers.\n",
        "- [Text Classification](https://tensorflow.org/hub/tutorials/tf2_text_classification): Classify IMDB movie reviews as either *positive* or *negative*.\n",
        "- [Style Transfer](https://tensorflow.org/hub/tutorials/tf2_arbitrary_image_stylization): Use deep learning to transfer style between images.\n",
        "- [Multilingual Universal Sentence Encoder Q&A](https://tensorflow.org/hub/tutorials/retrieval_with_tf_hub_universal_encoder_qa): Use a machine learning model to answer questions from the SQuAD dataset.\n",
        "- [Video Interpolation](https://tensorflow.org/hub/tutorials/tweening_conv3d): Predict what happened in a video between the first and the last frame.\n"
      ]
    },
    {
      "cell_type": "code",
      "metadata": {
        "id": "Imn-7Dd7rGAP"
      },
      "source": [
        ""
      ],
      "execution_count": null,
      "outputs": []
    },
    {
      "cell_type": "markdown",
      "metadata": {
        "id": "b67sjfXhrHyr"
      },
      "source": [
        ""
      ]
    },
    {
      "cell_type": "code",
      "metadata": {
        "id": "hCl46xFKrIZD"
      },
      "source": [
        "import numpy\n"
      ],
      "execution_count": 1,
      "outputs": []
    },
    {
      "cell_type": "code",
      "metadata": {
        "id": "rB2YsPHos6yR"
      },
      "source": [
        "list = [1,2,3,4,5]"
      ],
      "execution_count": 2,
      "outputs": []
    },
    {
      "cell_type": "code",
      "metadata": {
        "id": "R-hOPv23thvf",
        "outputId": "8eae1b4c-60f1-41b7-ab68-07812a714833",
        "colab": {
          "base_uri": "https://localhost:8080/"
        }
      },
      "source": [
        "list #scalar"
      ],
      "execution_count": 8,
      "outputs": [
        {
          "output_type": "execute_result",
          "data": {
            "text/plain": [
              "[1, 2, 3, 4, 5]"
            ]
          },
          "metadata": {
            "tags": []
          },
          "execution_count": 8
        }
      ]
    },
    {
      "cell_type": "code",
      "metadata": {
        "id": "0otDytIZtk_C"
      },
      "source": [
        "array=numpy.array(list)"
      ],
      "execution_count": 4,
      "outputs": []
    },
    {
      "cell_type": "code",
      "metadata": {
        "id": "P2391-ZztrJK",
        "outputId": "5511f0bd-36a0-4a6f-f6ca-9b24c1ca5909",
        "colab": {
          "base_uri": "https://localhost:8080/"
        }
      },
      "source": [
        "array"
      ],
      "execution_count": 5,
      "outputs": [
        {
          "output_type": "execute_result",
          "data": {
            "text/plain": [
              "array([1, 2, 3, 4, 5])"
            ]
          },
          "metadata": {
            "tags": []
          },
          "execution_count": 5
        }
      ]
    },
    {
      "cell_type": "code",
      "metadata": {
        "id": "nP4gHssYttRA",
        "outputId": "5edaf5b2-573a-413e-c267-974bb24fa26d",
        "colab": {
          "base_uri": "https://localhost:8080/"
        }
      },
      "source": [
        "array+5"
      ],
      "execution_count": 6,
      "outputs": [
        {
          "output_type": "execute_result",
          "data": {
            "text/plain": [
              "array([ 6,  7,  8,  9, 10])"
            ]
          },
          "metadata": {
            "tags": []
          },
          "execution_count": 6
        }
      ]
    },
    {
      "cell_type": "code",
      "metadata": {
        "id": "fch-8z54twRw"
      },
      "source": [
        "#vectorized operation"
      ],
      "execution_count": 7,
      "outputs": []
    },
    {
      "cell_type": "code",
      "metadata": {
        "id": "uidP0aa9t3hz",
        "outputId": "a9c41995-a996-487a-db72-11fd7cc00e9b",
        "colab": {
          "base_uri": "https://localhost:8080/"
        }
      },
      "source": [
        "#De Vectorized operation... it is heavy on the machine don't use scalar\n",
        "\n",
        "for i in list:\n",
        "  print(i+5)"
      ],
      "execution_count": 9,
      "outputs": [
        {
          "output_type": "stream",
          "text": [
            "6\n",
            "7\n",
            "8\n",
            "9\n",
            "10\n"
          ],
          "name": "stdout"
        }
      ]
    },
    {
      "cell_type": "code",
      "metadata": {
        "id": "FtuCvhjhuWIM"
      },
      "source": [
        "import numpy as np"
      ],
      "execution_count": 8,
      "outputs": []
    },
    {
      "cell_type": "code",
      "metadata": {
        "id": "vAZTFeT7ulMM"
      },
      "source": [
        "a=np.array([1,2,3,4,5])"
      ],
      "execution_count": 11,
      "outputs": []
    },
    {
      "cell_type": "code",
      "metadata": {
        "id": "yR1Fmw0busw2",
        "outputId": "6aa41e4d-d515-4a22-d8d4-1674c77882b6",
        "colab": {
          "base_uri": "https://localhost:8080/"
        }
      },
      "source": [
        "a"
      ],
      "execution_count": 12,
      "outputs": [
        {
          "output_type": "execute_result",
          "data": {
            "text/plain": [
              "array([1, 2, 3, 4, 5])"
            ]
          },
          "metadata": {
            "tags": []
          },
          "execution_count": 12
        }
      ]
    },
    {
      "cell_type": "code",
      "metadata": {
        "id": "1dQGMoWiutjD"
      },
      "source": [
        "simple_list_of_lists=[[1,2,3],[4,5,6],[7,8,9]]"
      ],
      "execution_count": 13,
      "outputs": []
    },
    {
      "cell_type": "code",
      "metadata": {
        "id": "ZnI7_XaNu5tW",
        "outputId": "67b40d93-2f33-4950-f2b6-b6d012c71ba7",
        "colab": {
          "base_uri": "https://localhost:8080/"
        }
      },
      "source": [
        "np.array(simple_list_of_lists)"
      ],
      "execution_count": 14,
      "outputs": [
        {
          "output_type": "execute_result",
          "data": {
            "text/plain": [
              "array([[1, 2, 3],\n",
              "       [4, 5, 6],\n",
              "       [7, 8, 9]])"
            ]
          },
          "metadata": {
            "tags": []
          },
          "execution_count": 14
        }
      ]
    },
    {
      "cell_type": "code",
      "metadata": {
        "id": "gikrFQZTu-_h",
        "outputId": "7bbc5bf8-ba86-4d22-b63d-d7feed132a85",
        "colab": {
          "base_uri": "https://localhost:8080/"
        }
      },
      "source": [
        "np.arange(20)"
      ],
      "execution_count": 15,
      "outputs": [
        {
          "output_type": "execute_result",
          "data": {
            "text/plain": [
              "array([ 0,  1,  2,  3,  4,  5,  6,  7,  8,  9, 10, 11, 12, 13, 14, 15, 16,\n",
              "       17, 18, 19])"
            ]
          },
          "metadata": {
            "tags": []
          },
          "execution_count": 15
        }
      ]
    },
    {
      "cell_type": "code",
      "metadata": {
        "id": "9A5eLQzVvJX6",
        "outputId": "440d5d8a-d6c9-4072-87f9-c58b8830bc71",
        "colab": {
          "base_uri": "https://localhost:8080/"
        }
      },
      "source": [
        "np.arange(0,20)  #[start,stop)"
      ],
      "execution_count": 16,
      "outputs": [
        {
          "output_type": "execute_result",
          "data": {
            "text/plain": [
              "array([ 0,  1,  2,  3,  4,  5,  6,  7,  8,  9, 10, 11, 12, 13, 14, 15, 16,\n",
              "       17, 18, 19])"
            ]
          },
          "metadata": {
            "tags": []
          },
          "execution_count": 16
        }
      ]
    },
    {
      "cell_type": "code",
      "metadata": {
        "id": "A-fkz4fwvS0P",
        "outputId": "04942e84-d3ee-4f3f-c984-2e70184e50fe",
        "colab": {
          "base_uri": "https://localhost:8080/"
        }
      },
      "source": [
        "np.arange(2,21,2)"
      ],
      "execution_count": 18,
      "outputs": [
        {
          "output_type": "execute_result",
          "data": {
            "text/plain": [
              "array([ 2,  4,  6,  8, 10, 12, 14, 16, 18, 20])"
            ]
          },
          "metadata": {
            "tags": []
          },
          "execution_count": 18
        }
      ]
    },
    {
      "cell_type": "code",
      "metadata": {
        "id": "w8_qVicgvZUj",
        "outputId": "c804b346-82c1-45e0-c11b-26eaa562b379",
        "colab": {
          "base_uri": "https://localhost:8080/"
        }
      },
      "source": [
        "np.arange(1,21,2)"
      ],
      "execution_count": 20,
      "outputs": [
        {
          "output_type": "execute_result",
          "data": {
            "text/plain": [
              "array([ 1,  3,  5,  7,  9, 11, 13, 15, 17, 19])"
            ]
          },
          "metadata": {
            "tags": []
          },
          "execution_count": 20
        }
      ]
    },
    {
      "cell_type": "code",
      "metadata": {
        "id": "HgwIX0ZrvjS2",
        "outputId": "c76358c1-da34-4b07-c230-63ed520d897e",
        "colab": {
          "base_uri": "https://localhost:8080/"
        }
      },
      "source": [
        "range(20)"
      ],
      "execution_count": 21,
      "outputs": [
        {
          "output_type": "execute_result",
          "data": {
            "text/plain": [
              "range(0, 20)"
            ]
          },
          "metadata": {
            "tags": []
          },
          "execution_count": 21
        }
      ]
    },
    {
      "cell_type": "code",
      "metadata": {
        "id": "3GVWj5bYvn7s",
        "outputId": "41d2ae00-2c66-4114-aed3-d7436b5f33c5",
        "colab": {
          "base_uri": "https://localhost:8080/"
        }
      },
      "source": [
        "np.zeros(10).dtype"
      ],
      "execution_count": 29,
      "outputs": [
        {
          "output_type": "execute_result",
          "data": {
            "text/plain": [
              "dtype('float64')"
            ]
          },
          "metadata": {
            "tags": []
          },
          "execution_count": 29
        }
      ]
    },
    {
      "cell_type": "code",
      "metadata": {
        "id": "fqHvGkGPzfvP",
        "outputId": "66104c14-fa72-4a5c-ae67-18c8952d93f5",
        "colab": {
          "base_uri": "https://localhost:8080/"
        }
      },
      "source": [
        "np.zeros([5,10])"
      ],
      "execution_count": 25,
      "outputs": [
        {
          "output_type": "execute_result",
          "data": {
            "text/plain": [
              "array([[0., 0., 0., 0., 0., 0., 0., 0., 0., 0.],\n",
              "       [0., 0., 0., 0., 0., 0., 0., 0., 0., 0.],\n",
              "       [0., 0., 0., 0., 0., 0., 0., 0., 0., 0.],\n",
              "       [0., 0., 0., 0., 0., 0., 0., 0., 0., 0.],\n",
              "       [0., 0., 0., 0., 0., 0., 0., 0., 0., 0.]])"
            ]
          },
          "metadata": {
            "tags": []
          },
          "execution_count": 25
        }
      ]
    },
    {
      "cell_type": "code",
      "metadata": {
        "id": "2jQSrENPzjsu",
        "outputId": "d279d25f-809d-4a86-ba84-edef0918efac",
        "colab": {
          "base_uri": "https://localhost:8080/"
        }
      },
      "source": [
        "np.ones(10)"
      ],
      "execution_count": 24,
      "outputs": [
        {
          "output_type": "execute_result",
          "data": {
            "text/plain": [
              "array([1., 1., 1., 1., 1., 1., 1., 1., 1., 1.])"
            ]
          },
          "metadata": {
            "tags": []
          },
          "execution_count": 24
        }
      ]
    },
    {
      "cell_type": "code",
      "metadata": {
        "id": "vdTmvmvSznzw",
        "outputId": "0f4e24ed-e53d-424c-88bc-fe95e4f8db15",
        "colab": {
          "base_uri": "https://localhost:8080/"
        }
      },
      "source": [
        "np.zeros(10,dtype=int)"
      ],
      "execution_count": 27,
      "outputs": [
        {
          "output_type": "execute_result",
          "data": {
            "text/plain": [
              "array([0, 0, 0, 0, 0, 0, 0, 0, 0, 0])"
            ]
          },
          "metadata": {
            "tags": []
          },
          "execution_count": 27
        }
      ]
    },
    {
      "cell_type": "code",
      "metadata": {
        "id": "F1rEzZAGz0fQ",
        "outputId": "b06354a3-b81d-40f3-df76-d0f9eeb3149e",
        "colab": {
          "base_uri": "https://localhost:8080/"
        }
      },
      "source": [
        "np.zeros(10,dtype=int).dtype"
      ],
      "execution_count": 28,
      "outputs": [
        {
          "output_type": "execute_result",
          "data": {
            "text/plain": [
              "dtype('int64')"
            ]
          },
          "metadata": {
            "tags": []
          },
          "execution_count": 28
        }
      ]
    },
    {
      "cell_type": "code",
      "metadata": {
        "id": "OqgYi7_Tz4Re",
        "outputId": "6291ca58-77c4-4d2f-b807-a0657ac4de6a",
        "colab": {
          "base_uri": "https://localhost:8080/"
        }
      },
      "source": [
        "np.linspace(0,20,100)"
      ],
      "execution_count": 30,
      "outputs": [
        {
          "output_type": "execute_result",
          "data": {
            "text/plain": [
              "array([ 0.        ,  0.2020202 ,  0.4040404 ,  0.60606061,  0.80808081,\n",
              "        1.01010101,  1.21212121,  1.41414141,  1.61616162,  1.81818182,\n",
              "        2.02020202,  2.22222222,  2.42424242,  2.62626263,  2.82828283,\n",
              "        3.03030303,  3.23232323,  3.43434343,  3.63636364,  3.83838384,\n",
              "        4.04040404,  4.24242424,  4.44444444,  4.64646465,  4.84848485,\n",
              "        5.05050505,  5.25252525,  5.45454545,  5.65656566,  5.85858586,\n",
              "        6.06060606,  6.26262626,  6.46464646,  6.66666667,  6.86868687,\n",
              "        7.07070707,  7.27272727,  7.47474747,  7.67676768,  7.87878788,\n",
              "        8.08080808,  8.28282828,  8.48484848,  8.68686869,  8.88888889,\n",
              "        9.09090909,  9.29292929,  9.49494949,  9.6969697 ,  9.8989899 ,\n",
              "       10.1010101 , 10.3030303 , 10.50505051, 10.70707071, 10.90909091,\n",
              "       11.11111111, 11.31313131, 11.51515152, 11.71717172, 11.91919192,\n",
              "       12.12121212, 12.32323232, 12.52525253, 12.72727273, 12.92929293,\n",
              "       13.13131313, 13.33333333, 13.53535354, 13.73737374, 13.93939394,\n",
              "       14.14141414, 14.34343434, 14.54545455, 14.74747475, 14.94949495,\n",
              "       15.15151515, 15.35353535, 15.55555556, 15.75757576, 15.95959596,\n",
              "       16.16161616, 16.36363636, 16.56565657, 16.76767677, 16.96969697,\n",
              "       17.17171717, 17.37373737, 17.57575758, 17.77777778, 17.97979798,\n",
              "       18.18181818, 18.38383838, 18.58585859, 18.78787879, 18.98989899,\n",
              "       19.19191919, 19.39393939, 19.5959596 , 19.7979798 , 20.        ])"
            ]
          },
          "metadata": {
            "tags": []
          },
          "execution_count": 30
        }
      ]
    },
    {
      "cell_type": "code",
      "metadata": {
        "id": "OLi3wxAK0Ef9",
        "outputId": "24034abf-2e11-43e6-f297-fdaff9e4d760",
        "colab": {
          "base_uri": "https://localhost:8080/"
        }
      },
      "source": [
        "np.linspace(1,20,5)"
      ],
      "execution_count": 31,
      "outputs": [
        {
          "output_type": "execute_result",
          "data": {
            "text/plain": [
              "array([ 1.  ,  5.75, 10.5 , 15.25, 20.  ])"
            ]
          },
          "metadata": {
            "tags": []
          },
          "execution_count": 31
        }
      ]
    },
    {
      "cell_type": "code",
      "metadata": {
        "id": "jPNmAgBR0KX7",
        "outputId": "a8595317-833d-4277-9bd9-0e9a1fb005a1",
        "colab": {
          "base_uri": "https://localhost:8080/"
        }
      },
      "source": [
        "np.linspace(1,20,4)"
      ],
      "execution_count": 32,
      "outputs": [
        {
          "output_type": "execute_result",
          "data": {
            "text/plain": [
              "array([ 1.        ,  7.33333333, 13.66666667, 20.        ])"
            ]
          },
          "metadata": {
            "tags": []
          },
          "execution_count": 32
        }
      ]
    },
    {
      "cell_type": "code",
      "metadata": {
        "id": "sVDCpnxS0QR0",
        "outputId": "bd0d026d-8af1-438d-a76f-0eb958a60c13",
        "colab": {
          "base_uri": "https://localhost:8080/"
        }
      },
      "source": [
        "#Identity matix\n",
        "\n",
        "np.eye(10)"
      ],
      "execution_count": 34,
      "outputs": [
        {
          "output_type": "execute_result",
          "data": {
            "text/plain": [
              "array([[1., 0., 0., 0., 0., 0., 0., 0., 0., 0.],\n",
              "       [0., 1., 0., 0., 0., 0., 0., 0., 0., 0.],\n",
              "       [0., 0., 1., 0., 0., 0., 0., 0., 0., 0.],\n",
              "       [0., 0., 0., 1., 0., 0., 0., 0., 0., 0.],\n",
              "       [0., 0., 0., 0., 1., 0., 0., 0., 0., 0.],\n",
              "       [0., 0., 0., 0., 0., 1., 0., 0., 0., 0.],\n",
              "       [0., 0., 0., 0., 0., 0., 1., 0., 0., 0.],\n",
              "       [0., 0., 0., 0., 0., 0., 0., 1., 0., 0.],\n",
              "       [0., 0., 0., 0., 0., 0., 0., 0., 1., 0.],\n",
              "       [0., 0., 0., 0., 0., 0., 0., 0., 0., 1.]])"
            ]
          },
          "metadata": {
            "tags": []
          },
          "execution_count": 34
        }
      ]
    },
    {
      "cell_type": "code",
      "metadata": {
        "id": "qVvgB-B30W7f",
        "outputId": "e65d7e8f-e141-49d1-c27e-67d7d3eb6f8a",
        "colab": {
          "base_uri": "https://localhost:8080/"
        }
      },
      "source": [
        "#Random Generation in numpy\n",
        "\n",
        "np.random.rand(5) # generate values [0,1) - uniform distribution"
      ],
      "execution_count": 35,
      "outputs": [
        {
          "output_type": "execute_result",
          "data": {
            "text/plain": [
              "array([0.39326294, 0.73359113, 0.05925229, 0.83318622, 0.96592657])"
            ]
          },
          "metadata": {
            "tags": []
          },
          "execution_count": 35
        }
      ]
    },
    {
      "cell_type": "code",
      "metadata": {
        "id": "JmEWrX0B0zuZ",
        "outputId": "4dd9688b-ccc5-4697-9cff-a7e8892d8d9c",
        "colab": {
          "base_uri": "https://localhost:8080/"
        }
      },
      "source": [
        "np.random.randn(500) #Standard normal distribution with mean = 0 and SD = 1"
      ],
      "execution_count": 37,
      "outputs": [
        {
          "output_type": "execute_result",
          "data": {
            "text/plain": [
              "array([ 1.81007981e-01, -3.64496321e-02, -7.10824139e-01, -6.14829231e-01,\n",
              "        6.41068104e-01,  4.04044253e-01,  9.76272114e-01, -2.19387278e+00,\n",
              "       -1.77620736e-01, -6.43349633e-01,  4.08186229e-01,  2.39465501e+00,\n",
              "       -8.68070596e-01, -1.12372286e+00, -1.30585879e+00, -1.60738404e-01,\n",
              "       -5.51773478e-01,  1.79687194e+00, -1.19653266e-01, -1.06037209e+00,\n",
              "       -1.85980523e-01, -7.93697437e-01,  6.88796744e-01, -3.90310994e-01,\n",
              "        4.80401611e-01, -7.23713345e-01, -2.21598039e-01,  2.57982957e-01,\n",
              "        1.19896227e+00,  7.23146017e-02, -5.34421996e-01, -1.81795294e-01,\n",
              "       -8.83472404e-01,  1.53471203e+00,  4.65639862e-01,  4.40128224e-01,\n",
              "       -5.69020087e-01,  2.17979343e+00,  1.57658635e-01,  9.82738202e-01,\n",
              "       -4.92494132e-01,  8.53231826e-01,  2.78183769e-02, -9.82159982e-01,\n",
              "        4.47831745e-01,  7.37888892e-02,  9.28804172e-02,  1.79678812e+00,\n",
              "        9.80624607e-03,  3.04653374e-01,  4.64236942e-01,  1.04141574e+00,\n",
              "       -1.36373155e-01, -1.09659096e+00, -6.15669821e-01,  5.34064856e-01,\n",
              "        5.60443652e-01, -4.75672408e-01,  2.01844770e+00,  1.48324937e+00,\n",
              "        2.73325979e-01, -2.11030933e+00, -1.04829650e+00,  1.28980352e+00,\n",
              "        1.55383422e+00,  1.66602745e+00,  3.76831600e-01,  7.51111023e-02,\n",
              "        9.70987061e-01, -1.02767888e+00,  1.64021557e+00, -5.63407825e-01,\n",
              "        4.18284184e-01, -2.08397287e+00,  4.89297621e-01, -9.89422950e-02,\n",
              "        7.81358961e-01, -1.95254688e+00, -1.29382449e+00,  1.20587450e+00,\n",
              "        4.03529297e-02,  1.04324888e+00, -4.31823415e-01,  5.16299767e-01,\n",
              "       -6.99779245e-01,  3.47152034e-01,  6.10931222e-01, -1.06470457e-01,\n",
              "        2.08889087e+00,  6.32158087e-01,  1.25921826e+00,  1.10303720e+00,\n",
              "        5.68061208e-01,  6.45825909e-01, -3.30590941e-01,  6.91446175e-01,\n",
              "        6.28534787e-01,  6.79188357e-01,  1.59304729e-01, -2.69079148e-01,\n",
              "       -4.09353043e-01, -8.22339213e-01,  7.55663332e-01,  8.19614898e-01,\n",
              "       -5.20679209e-01, -8.37798746e-01, -4.69823208e-02, -2.44303961e+00,\n",
              "       -1.42151826e+00, -1.07494078e+00, -1.11671046e+00, -2.61264386e-02,\n",
              "       -1.14017726e+00,  1.14755838e+00,  6.95861790e-01, -3.17365738e-01,\n",
              "       -1.22137795e+00,  1.42019852e+00,  3.07218640e-01,  3.81053906e-01,\n",
              "       -4.92546419e-01, -9.55635433e-01,  1.91769061e+00, -6.77677740e-01,\n",
              "       -9.79213108e-01,  1.05857797e+00, -3.91155909e-02, -5.93184507e-01,\n",
              "        1.65577964e-01, -1.59505415e-01,  1.66958025e+00, -6.47393599e-01,\n",
              "       -1.32116900e+00, -1.70521159e-01,  5.91990321e-02,  6.76831563e-01,\n",
              "       -3.86166963e-01, -2.59298738e-01, -8.70034105e-01, -1.44646197e+00,\n",
              "       -8.54643070e-01,  1.20238058e+00, -1.79251528e+00,  2.21673160e-01,\n",
              "       -2.90208165e-01,  1.49108387e-01,  3.59492397e-01,  1.20683107e-03,\n",
              "       -2.20082053e+00, -2.03659534e-01,  7.06800889e-01, -3.11828258e-01,\n",
              "       -1.44382405e+00,  1.65905227e+00, -1.15492785e+00, -7.03379747e-01,\n",
              "        1.33549364e+00,  5.00998575e-01,  2.68986830e-01, -3.39558233e-01,\n",
              "        9.75190565e-01,  1.07826387e+00,  1.15565350e+00, -5.59170095e-01,\n",
              "       -1.23978245e+00,  1.42280611e+00,  1.54520600e+00, -1.47974337e+00,\n",
              "        5.09962244e-01, -5.30102934e-03, -1.83952763e-01, -1.16763145e+00,\n",
              "        7.95372640e-01, -1.31874302e+00,  5.12106231e-01,  8.57828049e-01,\n",
              "        2.72440730e-01, -2.18592949e-01,  1.95004268e-01,  4.00227235e-01,\n",
              "        9.30690006e-03,  6.92863362e-01,  3.06371260e-01, -2.33961691e-01,\n",
              "       -3.46815073e-01, -1.00182381e+00, -9.63042357e-01,  1.20412890e+00,\n",
              "        8.68892037e-01,  7.04058213e-02, -1.19850304e+00, -2.26568743e+00,\n",
              "        1.56469871e+00, -1.00375977e+00,  4.79659910e-01, -4.78995297e-01,\n",
              "       -5.78454012e-01,  9.18718958e-01,  2.19890380e-01, -5.07012763e-01,\n",
              "       -3.53087726e-01,  6.98542235e-01, -1.09192055e+00, -8.17566414e-01,\n",
              "       -6.51398993e-01,  1.33526890e-02,  7.74169755e-01,  2.21235183e+00,\n",
              "        3.75928961e-01, -2.59531826e+00, -1.36192982e+00, -1.28278078e+00,\n",
              "       -8.80845868e-01,  3.59171788e-01, -1.29208382e-01,  1.29211765e+00,\n",
              "       -2.02999661e+00, -1.06694416e+00,  5.91923734e-01,  1.22272234e+00,\n",
              "        1.62772341e-01,  1.19155152e+00, -1.08686682e+00, -6.55690908e-01,\n",
              "        4.37829432e-01, -1.68491049e-01,  8.12368408e-01, -9.14850569e-03,\n",
              "       -8.01283326e-02, -5.93177173e-01, -6.87635311e-01, -4.15832170e-01,\n",
              "       -9.39522975e-01,  1.06477562e+00,  3.59148953e-01, -5.59225180e-01,\n",
              "        4.87504186e-01,  6.13011711e-01,  2.50946271e-01, -1.35488804e+00,\n",
              "        4.39808994e-01, -1.11859723e+00, -8.20487850e-01, -1.03441881e+00,\n",
              "        1.00091607e+00,  1.12654892e-01, -2.19190156e+00, -9.32533529e-01,\n",
              "       -1.35866519e+00, -4.38992767e-01, -3.65298222e-01, -1.12054814e+00,\n",
              "       -7.18155585e-01,  1.62344568e-01, -2.55554365e-01, -1.03051537e-02,\n",
              "       -4.62970451e-01,  6.40174727e-01, -1.00765449e+00, -1.47798759e-01,\n",
              "       -1.31236759e-01, -1.41040091e+00, -1.64269319e-01,  3.72412559e-01,\n",
              "       -5.69611627e-01,  1.81286653e+00, -2.30679297e-01,  4.21855585e-01,\n",
              "       -9.23601467e-01, -1.70075776e+00, -9.20130587e-02, -3.60204945e-01,\n",
              "        9.82333970e-01, -1.62952502e+00, -9.02078686e-01,  5.00188499e-01,\n",
              "        1.66183614e+00,  2.33590794e+00, -1.89685605e-01, -1.24534586e+00,\n",
              "       -3.56842929e-01, -2.33660475e-01, -1.12190755e-01,  5.69401623e-01,\n",
              "        2.07319413e+00,  1.50146515e+00,  1.72281404e+00, -7.74085065e-01,\n",
              "        2.62522895e+00,  4.39305080e-02, -3.37048500e-01, -9.39125044e-01,\n",
              "       -7.83765651e-01, -4.60427333e-01,  1.78566163e+00,  1.18216461e+00,\n",
              "        1.52817898e+00, -8.77590089e-01,  9.88631528e-01, -7.54730047e-02,\n",
              "       -8.78248507e-01,  3.16934101e-01, -1.60988652e+00, -2.09031785e-01,\n",
              "        1.15148806e+00, -5.99622286e-01, -2.87481624e-01,  8.52504117e-01,\n",
              "        7.13948769e-01, -1.26371572e+00,  4.93612209e-01,  7.91838860e-01,\n",
              "       -1.29383525e+00, -1.14957674e+00, -5.01872584e-01, -4.44513316e-01,\n",
              "       -3.32190916e-01,  7.29780752e-01, -4.58153271e-01,  4.94777413e-01,\n",
              "       -2.32747882e-01,  9.88218440e-01,  4.33129807e-01,  1.64651878e+00,\n",
              "        5.93549707e-01, -5.66184205e-01, -2.31649061e-01,  5.52912067e-01,\n",
              "        8.19650641e-01, -1.01390634e+00, -1.13860009e+00, -1.82306096e+00,\n",
              "        1.85541229e+00,  7.75069860e-01, -9.93065349e-01,  1.21959169e-01,\n",
              "        1.15969704e-01,  8.72233155e-01, -3.49837581e-01, -9.49063969e-01,\n",
              "        1.17310227e-01, -1.39785428e+00, -1.00158099e-01, -6.42640034e-01,\n",
              "        6.22073566e-01, -1.00204478e-01,  1.09658068e+00,  7.48397242e-01,\n",
              "        2.10701719e+00, -3.54854084e-01,  1.79787433e+00, -1.48227999e+00,\n",
              "       -1.73247231e+00, -9.12551352e-01, -1.42056945e+00, -5.10262544e-01,\n",
              "       -4.00828463e-01, -1.67144596e-01, -4.59936042e-01, -5.24362607e-01,\n",
              "       -3.75306752e-01, -1.49394011e+00,  4.59490573e-01, -1.57640864e-01,\n",
              "        6.83121394e-01, -6.68210962e-01,  2.64226133e-01, -5.97401080e-02,\n",
              "        5.97728955e-01, -1.48447555e-01,  4.88297424e-01,  5.98606700e-01,\n",
              "       -1.49679448e+00, -3.07857854e-01, -1.73798798e-01,  1.51077708e+00,\n",
              "        1.37196837e-01,  1.45770493e-01, -6.75615131e-01,  3.03781429e-01,\n",
              "       -4.39954244e-02, -5.60509630e-01,  1.09403060e-01,  1.54073588e+00,\n",
              "        3.08675650e-01,  3.44324723e-01,  2.38279039e+00,  2.32064578e-01,\n",
              "       -6.80209301e-01,  2.32134805e-01, -4.92211054e-01, -4.89940108e-01,\n",
              "        1.84235792e+00, -1.32838699e+00,  1.61674823e+00, -1.78756225e+00,\n",
              "        3.20103935e-01, -2.03958553e-01,  5.56241950e-01,  2.23447133e+00,\n",
              "       -2.86133940e-01, -4.84120365e-03, -5.17910996e-01,  7.81062099e-01,\n",
              "       -7.34231351e-01,  2.23745509e-01, -5.18451291e-01,  1.25143369e+00,\n",
              "        1.21307893e+00, -7.37184995e-02,  1.06346368e-01, -6.01984382e-01,\n",
              "       -1.78050896e+00,  1.48578648e+00, -4.10662847e-02,  3.42668418e-01,\n",
              "        6.24696610e-01,  6.48712673e-01, -5.62714121e-01, -5.69293599e-01,\n",
              "        9.42163224e-01, -6.59835338e-01,  2.03710469e+00,  4.02129149e-01,\n",
              "       -2.27476946e+00, -2.40694113e+00,  1.91127458e-01,  1.49712470e+00,\n",
              "       -8.58103768e-01,  3.53577311e-01, -7.12012250e-01,  2.83815153e-01,\n",
              "        1.16003467e+00,  1.54756655e-01,  1.83532793e+00,  4.90400290e-01,\n",
              "       -2.13396720e-03,  9.10822469e-02,  1.43226597e+00, -2.63959647e-01,\n",
              "        1.72513168e-01, -4.13007114e-01,  1.07783447e-01, -4.07892417e-01,\n",
              "        3.38330002e+00,  9.23599226e-01,  6.80175497e-01,  2.12667689e+00,\n",
              "       -1.84096753e-01,  4.16854355e-01,  4.52210191e-01,  1.60274049e+00,\n",
              "        2.66318005e-01, -1.40860120e-02, -1.48601461e+00,  1.46552976e+00,\n",
              "       -2.24149604e-01,  1.47378112e+00, -1.91200374e-01, -5.87973639e-01,\n",
              "       -4.84879000e-01,  3.87581321e-01,  1.70002756e+00, -2.37789078e+00,\n",
              "       -9.51001430e-01,  1.40581995e-01, -1.70655736e+00,  2.54347174e-01,\n",
              "        2.06233715e+00, -9.44519748e-01, -7.34926418e-02,  4.28066621e-01,\n",
              "       -5.91471698e-01,  8.29612397e-01, -4.62163496e-01, -5.22425250e-01,\n",
              "       -3.17994949e-01, -8.90330220e-01, -7.55460180e-02, -1.39285895e+00,\n",
              "       -3.42804654e-01, -4.44363622e-01, -8.50705799e-01, -1.96402639e-01,\n",
              "        1.51389259e-01, -5.46387352e-01, -2.67376068e-01, -6.33751855e-01,\n",
              "       -5.51369303e-01,  2.57824003e-01,  1.70754902e+00, -3.41948319e-01,\n",
              "        3.51353203e-01, -1.10118630e+00,  2.33426108e-01, -9.09014114e-01,\n",
              "       -5.16938028e-01,  1.64096791e+00, -2.44014713e-01,  9.99020589e-01])"
            ]
          },
          "metadata": {
            "tags": []
          },
          "execution_count": 37
        }
      ]
    },
    {
      "cell_type": "code",
      "metadata": {
        "id": "frKQG_Al1QJc",
        "outputId": "695a3989-f48b-43b1-c11b-f7bdc2def6ed",
        "colab": {
          "base_uri": "https://localhost:8080/"
        }
      },
      "source": [
        "np.random.randn(10,10)"
      ],
      "execution_count": 38,
      "outputs": [
        {
          "output_type": "execute_result",
          "data": {
            "text/plain": [
              "array([[ 1.29685067,  1.36308479,  0.189255  ,  0.3991813 ,  0.12260254,\n",
              "         0.0290154 , -2.2322176 ,  0.49858055,  1.21415793,  0.30684054],\n",
              "       [ 0.45435953, -1.16138492,  0.18868694, -0.62510645, -0.04578592,\n",
              "         0.19436257, -0.16228359, -1.38962246, -2.59404867, -1.33952732],\n",
              "       [ 0.75108521, -0.19553284,  2.87956761, -0.56026049,  0.55830949,\n",
              "        -0.25117543, -0.76045409, -0.63751415,  0.99661167, -0.28585973],\n",
              "       [-1.00956449, -0.28233158, -0.28628228, -0.09378248, -0.18937784,\n",
              "         1.95011643,  0.74387475,  0.58313098, -1.32618768, -0.16363798],\n",
              "       [ 0.6254785 , -0.1668953 ,  0.69817365,  0.69510996, -1.33798972,\n",
              "        -0.02603619,  0.55274911, -1.11202122, -0.8109974 , -0.93323257],\n",
              "       [ 2.04301464,  2.00576755, -2.03864041,  0.8820563 ,  0.8783569 ,\n",
              "         0.70060603,  0.16499632, -0.00850857,  0.38892407,  0.59708552],\n",
              "       [ 0.15762526, -0.96112894, -0.06579717, -1.18318393, -0.83865709,\n",
              "         0.66413083, -0.79725015, -0.71700901, -0.87167587,  0.28201586],\n",
              "       [ 0.63970783,  0.29581275,  1.79010855, -2.38414501,  1.68551105,\n",
              "         1.56374689, -0.27651615, -0.51813321,  1.68926375,  1.32168806],\n",
              "       [ 0.27623904,  0.87189363, -0.38613014, -0.80592414,  0.46455948,\n",
              "        -0.83030152, -0.27202313,  1.18827937,  0.69637701, -0.7977578 ],\n",
              "       [-0.693448  , -0.91424919, -1.06517427, -1.27639293,  0.47115669,\n",
              "        -0.3541825 ,  0.98287609,  1.00242115, -0.18450302, -0.65145943]])"
            ]
          },
          "metadata": {
            "tags": []
          },
          "execution_count": 38
        }
      ]
    },
    {
      "cell_type": "code",
      "metadata": {
        "id": "InnqGN7-2T8A",
        "outputId": "2ff6d13c-5faa-4368-ba4e-ddae18014133",
        "colab": {
          "base_uri": "https://localhost:8080/"
        }
      },
      "source": [
        "np.random.randint(5,20)"
      ],
      "execution_count": 39,
      "outputs": [
        {
          "output_type": "execute_result",
          "data": {
            "text/plain": [
              "18"
            ]
          },
          "metadata": {
            "tags": []
          },
          "execution_count": 39
        }
      ]
    },
    {
      "cell_type": "code",
      "metadata": {
        "id": "CrUxpOcw2gAk",
        "outputId": "d48d9cb9-283e-4701-9106-74a3d545068e",
        "colab": {
          "base_uri": "https://localhost:8080/"
        }
      },
      "source": [
        "np.random.randint(5,20,5)  #[start,stop)"
      ],
      "execution_count": 40,
      "outputs": [
        {
          "output_type": "execute_result",
          "data": {
            "text/plain": [
              "array([19, 11, 10,  6,  8])"
            ]
          },
          "metadata": {
            "tags": []
          },
          "execution_count": 40
        }
      ]
    },
    {
      "cell_type": "code",
      "metadata": {
        "id": "xf26WZzC2lvB",
        "outputId": "b0337156-37ba-4476-cbfa-b09239d51a1e",
        "colab": {
          "base_uri": "https://localhost:8080/"
        }
      },
      "source": [
        "np.random.randint(1,2,20)"
      ],
      "execution_count": 45,
      "outputs": [
        {
          "output_type": "execute_result",
          "data": {
            "text/plain": [
              "array([1, 1, 1, 1, 1, 1, 1, 1, 1, 1, 1, 1, 1, 1, 1, 1, 1, 1, 1, 1])"
            ]
          },
          "metadata": {
            "tags": []
          },
          "execution_count": 45
        }
      ]
    },
    {
      "cell_type": "code",
      "metadata": {
        "id": "63yVuOh23DxC"
      },
      "source": [
        "sample_array = np.arange(1,31)"
      ],
      "execution_count": 46,
      "outputs": []
    },
    {
      "cell_type": "code",
      "metadata": {
        "id": "FBzZLXLp6dk-",
        "outputId": "5d034e5a-f3b3-483a-ce58-fdd7bf37e378",
        "colab": {
          "base_uri": "https://localhost:8080/"
        }
      },
      "source": [
        "sample_array.reshape(5,6)"
      ],
      "execution_count": 49,
      "outputs": [
        {
          "output_type": "execute_result",
          "data": {
            "text/plain": [
              "array([[ 1,  2,  3,  4,  5,  6],\n",
              "       [ 7,  8,  9, 10, 11, 12],\n",
              "       [13, 14, 15, 16, 17, 18],\n",
              "       [19, 20, 21, 22, 23, 24],\n",
              "       [25, 26, 27, 28, 29, 30]])"
            ]
          },
          "metadata": {
            "tags": []
          },
          "execution_count": 49
        }
      ]
    },
    {
      "cell_type": "code",
      "metadata": {
        "id": "LSx-M3mf6xbQ",
        "outputId": "2263fad4-30a8-4a78-f2a6-6465b44c4d15",
        "colab": {
          "base_uri": "https://localhost:8080/"
        }
      },
      "source": [
        "sample_array.reshape(2,15)"
      ],
      "execution_count": 51,
      "outputs": [
        {
          "output_type": "execute_result",
          "data": {
            "text/plain": [
              "array([[ 1,  2,  3,  4,  5,  6,  7,  8,  9, 10, 11, 12, 13, 14, 15],\n",
              "       [16, 17, 18, 19, 20, 21, 22, 23, 24, 25, 26, 27, 28, 29, 30]])"
            ]
          },
          "metadata": {
            "tags": []
          },
          "execution_count": 51
        }
      ]
    },
    {
      "cell_type": "code",
      "metadata": {
        "id": "Z9bCxXf064h2",
        "outputId": "734ba342-2f14-4c5a-8088-422d59fca65a",
        "colab": {
          "base_uri": "https://localhost:8080/"
        }
      },
      "source": [
        "sample_array.shape"
      ],
      "execution_count": 50,
      "outputs": [
        {
          "output_type": "execute_result",
          "data": {
            "text/plain": [
              "(30,)"
            ]
          },
          "metadata": {
            "tags": []
          },
          "execution_count": 50
        }
      ]
    },
    {
      "cell_type": "code",
      "metadata": {
        "id": "Gb9q9uU07UJ6",
        "outputId": "95528e35-1547-48c7-e5f8-338fd9c2f664",
        "colab": {
          "base_uri": "https://localhost:8080/"
        }
      },
      "source": [
        "sample_array[7]"
      ],
      "execution_count": 53,
      "outputs": [
        {
          "output_type": "execute_result",
          "data": {
            "text/plain": [
              "8"
            ]
          },
          "metadata": {
            "tags": []
          },
          "execution_count": 53
        }
      ]
    },
    {
      "cell_type": "code",
      "metadata": {
        "id": "HBj28MIu7-_r",
        "outputId": "e0a1f171-79c8-41e4-9c9d-03a59a5a3042",
        "colab": {
          "base_uri": "https://localhost:8080/"
        }
      },
      "source": [
        "sample_array[:3]"
      ],
      "execution_count": 54,
      "outputs": [
        {
          "output_type": "execute_result",
          "data": {
            "text/plain": [
              "array([1, 2, 3])"
            ]
          },
          "metadata": {
            "tags": []
          },
          "execution_count": 54
        }
      ]
    },
    {
      "cell_type": "code",
      "metadata": {
        "id": "D7g1aA9u8Y8z",
        "outputId": "948fbb53-f69d-4c58-f201-f14814efbd42",
        "colab": {
          "base_uri": "https://localhost:8080/"
        }
      },
      "source": [
        "sample_array[1:3]"
      ],
      "execution_count": 56,
      "outputs": [
        {
          "output_type": "execute_result",
          "data": {
            "text/plain": [
              "array([2, 3])"
            ]
          },
          "metadata": {
            "tags": []
          },
          "execution_count": 56
        }
      ]
    },
    {
      "cell_type": "code",
      "metadata": {
        "id": "59jsBqOG8cFN",
        "outputId": "7fd29103-dfb4-45ca-81a6-36101b8d9cf8",
        "colab": {
          "base_uri": "https://localhost:8080/"
        }
      },
      "source": [
        "sample_array[3:]"
      ],
      "execution_count": 57,
      "outputs": [
        {
          "output_type": "execute_result",
          "data": {
            "text/plain": [
              "array([ 4,  5,  6,  7,  8,  9, 10, 11, 12, 13, 14, 15, 16, 17, 18, 19, 20,\n",
              "       21, 22, 23, 24, 25, 26, 27, 28, 29, 30])"
            ]
          },
          "metadata": {
            "tags": []
          },
          "execution_count": 57
        }
      ]
    },
    {
      "cell_type": "code",
      "metadata": {
        "id": "KKW6MWe789SP",
        "outputId": "3410e05f-4169-4023-a31d-145c796882b4",
        "colab": {
          "base_uri": "https://localhost:8080/"
        }
      },
      "source": [
        "sample_array[[0,29,25,14,4]]"
      ],
      "execution_count": 61,
      "outputs": [
        {
          "output_type": "execute_result",
          "data": {
            "text/plain": [
              "array([ 1, 30, 26, 15,  5])"
            ]
          },
          "metadata": {
            "tags": []
          },
          "execution_count": 61
        }
      ]
    },
    {
      "cell_type": "code",
      "metadata": {
        "id": "JZhLdmhn9CZu",
        "outputId": "540849f3-5a2e-490c-cec9-bf0ae0ad13c3",
        "colab": {
          "base_uri": "https://localhost:8080/"
        }
      },
      "source": [
        "sample_array[-2]"
      ],
      "execution_count": 62,
      "outputs": [
        {
          "output_type": "execute_result",
          "data": {
            "text/plain": [
              "29"
            ]
          },
          "metadata": {
            "tags": []
          },
          "execution_count": 62
        }
      ]
    },
    {
      "cell_type": "code",
      "metadata": {
        "id": "EwiP2J8H9QYd",
        "outputId": "af26bf70-114a-4492-f355-627a1ab4c264",
        "colab": {
          "base_uri": "https://localhost:8080/"
        }
      },
      "source": [
        "sample_array[-29]"
      ],
      "execution_count": 63,
      "outputs": [
        {
          "output_type": "execute_result",
          "data": {
            "text/plain": [
              "2"
            ]
          },
          "metadata": {
            "tags": []
          },
          "execution_count": 63
        }
      ]
    },
    {
      "cell_type": "code",
      "metadata": {
        "id": "JydkCblF9U8a",
        "outputId": "e5c337b8-9b11-41a3-8973-a2312b4888d4",
        "colab": {
          "base_uri": "https://localhost:8080/"
        }
      },
      "source": [
        "sample_array[-30]"
      ],
      "execution_count": 64,
      "outputs": [
        {
          "output_type": "execute_result",
          "data": {
            "text/plain": [
              "1"
            ]
          },
          "metadata": {
            "tags": []
          },
          "execution_count": 64
        }
      ]
    },
    {
      "cell_type": "code",
      "metadata": {
        "id": "u0sFl7my9Z6E",
        "outputId": "5d9a8c02-661b-4d45-daae-641c11ae5ef5",
        "colab": {
          "base_uri": "https://localhost:8080/"
        }
      },
      "source": [
        "sample_array[-1]"
      ],
      "execution_count": 65,
      "outputs": [
        {
          "output_type": "execute_result",
          "data": {
            "text/plain": [
              "30"
            ]
          },
          "metadata": {
            "tags": []
          },
          "execution_count": 65
        }
      ]
    },
    {
      "cell_type": "code",
      "metadata": {
        "id": "pgUBS8wE9gl2"
      },
      "source": [
        "rand_array =  np.random.randint(0,100,20)"
      ],
      "execution_count": 66,
      "outputs": []
    },
    {
      "cell_type": "code",
      "metadata": {
        "id": "b028TEhC_NHn",
        "outputId": "7e5fba3c-781f-42e3-fb3a-465c69821dec",
        "colab": {
          "base_uri": "https://localhost:8080/"
        }
      },
      "source": [
        "rand_array"
      ],
      "execution_count": 67,
      "outputs": [
        {
          "output_type": "execute_result",
          "data": {
            "text/plain": [
              "array([11, 25, 56, 29, 52, 92, 61, 32, 29, 30, 76, 74, 99, 70, 50, 14, 43,\n",
              "       13, 56, 83])"
            ]
          },
          "metadata": {
            "tags": []
          },
          "execution_count": 67
        }
      ]
    },
    {
      "cell_type": "code",
      "metadata": {
        "id": "DI2Wz2hz_a5f",
        "outputId": "b9d81119-4d4d-4c19-839a-e60a2452abd2",
        "colab": {
          "base_uri": "https://localhost:8080/"
        }
      },
      "source": [
        "rand_array.max()"
      ],
      "execution_count": 68,
      "outputs": [
        {
          "output_type": "execute_result",
          "data": {
            "text/plain": [
              "99"
            ]
          },
          "metadata": {
            "tags": []
          },
          "execution_count": 68
        }
      ]
    },
    {
      "cell_type": "code",
      "metadata": {
        "id": "cFWyECB9AFJ-"
      },
      "source": [
        "#Broadcasting\n",
        "sample_array[0]=100"
      ],
      "execution_count": 69,
      "outputs": []
    },
    {
      "cell_type": "code",
      "metadata": {
        "id": "ZrPOKO3mATri"
      },
      "source": [
        "sample_array\n",
        "sample_array[:3]=100"
      ],
      "execution_count": 73,
      "outputs": []
    },
    {
      "cell_type": "code",
      "metadata": {
        "id": "D66oM8i3AZ3B",
        "outputId": "f17acf32-5785-4a29-f4dc-26f8a6104e12",
        "colab": {
          "base_uri": "https://localhost:8080/"
        }
      },
      "source": [
        "sample_array"
      ],
      "execution_count": 71,
      "outputs": [
        {
          "output_type": "execute_result",
          "data": {
            "text/plain": [
              "array([100, 100, 100,   4,   5,   6,   7,   8,   9,  10,  11,  12,  13,\n",
              "        14,  15,  16,  17,  18,  19,  20,  21,  22,  23,  24,  25,  26,\n",
              "        27,  28,  29,  30])"
            ]
          },
          "metadata": {
            "tags": []
          },
          "execution_count": 71
        }
      ]
    },
    {
      "cell_type": "code",
      "metadata": {
        "id": "FGCzPTmfAbZW"
      },
      "source": [
        "sample_array[:]=10"
      ],
      "execution_count": 74,
      "outputs": []
    },
    {
      "cell_type": "code",
      "metadata": {
        "id": "0yEjJhkJFdWm",
        "outputId": "ab8f084a-c8f2-4cc1-e095-58939977ab87",
        "colab": {
          "base_uri": "https://localhost:8080/"
        }
      },
      "source": [
        "sample_array"
      ],
      "execution_count": 75,
      "outputs": [
        {
          "output_type": "execute_result",
          "data": {
            "text/plain": [
              "array([10, 10, 10, 10, 10, 10, 10, 10, 10, 10, 10, 10, 10, 10, 10, 10, 10,\n",
              "       10, 10, 10, 10, 10, 10, 10, 10, 10, 10, 10, 10, 10])"
            ]
          },
          "metadata": {
            "tags": []
          },
          "execution_count": 75
        }
      ]
    },
    {
      "cell_type": "code",
      "metadata": {
        "id": "DNU_03F4FffU"
      },
      "source": [
        "sample_array = np.arange(10,21)"
      ],
      "execution_count": 76,
      "outputs": []
    },
    {
      "cell_type": "code",
      "metadata": {
        "id": "3ItEN5g6F6Kz",
        "outputId": "3c2bf8ea-2c4d-4bd1-ba39-de845700b463",
        "colab": {
          "base_uri": "https://localhost:8080/"
        }
      },
      "source": [
        "sample_array"
      ],
      "execution_count": 77,
      "outputs": [
        {
          "output_type": "execute_result",
          "data": {
            "text/plain": [
              "array([10, 11, 12, 13, 14, 15, 16, 17, 18, 19, 20])"
            ]
          },
          "metadata": {
            "tags": []
          },
          "execution_count": 77
        }
      ]
    },
    {
      "cell_type": "code",
      "metadata": {
        "id": "Vsfg1oDoF9-m"
      },
      "source": [
        "#Subsetting"
      ],
      "execution_count": 78,
      "outputs": []
    },
    {
      "cell_type": "code",
      "metadata": {
        "id": "QPLgZPJ5GFNH"
      },
      "source": [
        "subset = sample_array[0:5]"
      ],
      "execution_count": 79,
      "outputs": []
    },
    {
      "cell_type": "code",
      "metadata": {
        "id": "sZWx7Xn-GJXf",
        "outputId": "94eeab70-e8b5-443b-aab2-22929491066d",
        "colab": {
          "base_uri": "https://localhost:8080/"
        }
      },
      "source": [
        "subset"
      ],
      "execution_count": 80,
      "outputs": [
        {
          "output_type": "execute_result",
          "data": {
            "text/plain": [
              "array([10, 11, 12, 13, 14])"
            ]
          },
          "metadata": {
            "tags": []
          },
          "execution_count": 80
        }
      ]
    },
    {
      "cell_type": "code",
      "metadata": {
        "id": "ruLO8NXyGLMF"
      },
      "source": [
        "subset[0]=100"
      ],
      "execution_count": 81,
      "outputs": []
    },
    {
      "cell_type": "code",
      "metadata": {
        "id": "lv4igTo2GOT3",
        "outputId": "69164f2d-450f-48d8-cb40-d420f234bc2c",
        "colab": {
          "base_uri": "https://localhost:8080/"
        }
      },
      "source": [
        "sample_array"
      ],
      "execution_count": 82,
      "outputs": [
        {
          "output_type": "execute_result",
          "data": {
            "text/plain": [
              "array([100,  11,  12,  13,  14,  15,  16,  17,  18,  19,  20])"
            ]
          },
          "metadata": {
            "tags": []
          },
          "execution_count": 82
        }
      ]
    },
    {
      "cell_type": "code",
      "metadata": {
        "id": "n2nRiHT6Gk2x"
      },
      "source": [
        "copy = sample_array.copy()"
      ],
      "execution_count": 83,
      "outputs": []
    },
    {
      "cell_type": "code",
      "metadata": {
        "id": "VpDN2t7rGo5l",
        "outputId": "e8749fbb-ee15-4cad-c2fc-dfc1a68242f7",
        "colab": {
          "base_uri": "https://localhost:8080/"
        }
      },
      "source": [
        "copy"
      ],
      "execution_count": 84,
      "outputs": [
        {
          "output_type": "execute_result",
          "data": {
            "text/plain": [
              "array([100,  11,  12,  13,  14,  15,  16,  17,  18,  19,  20])"
            ]
          },
          "metadata": {
            "tags": []
          },
          "execution_count": 84
        }
      ]
    },
    {
      "cell_type": "code",
      "metadata": {
        "id": "hvsdzVn6GxCR"
      },
      "source": [
        "sample_array = np.arange(1,31)"
      ],
      "execution_count": 86,
      "outputs": []
    },
    {
      "cell_type": "code",
      "metadata": {
        "id": "qqGX6U5KGzta",
        "outputId": "f9659dca-41c3-4b94-ce20-30119752bebc",
        "colab": {
          "base_uri": "https://localhost:8080/"
        }
      },
      "source": [
        "sample_array"
      ],
      "execution_count": 87,
      "outputs": [
        {
          "output_type": "execute_result",
          "data": {
            "text/plain": [
              "array([ 1,  2,  3,  4,  5,  6,  7,  8,  9, 10, 11, 12, 13, 14, 15, 16, 17,\n",
              "       18, 19, 20, 21, 22, 23, 24, 25, 26, 27, 28, 29, 30])"
            ]
          },
          "metadata": {
            "tags": []
          },
          "execution_count": 87
        }
      ]
    },
    {
      "cell_type": "code",
      "metadata": {
        "id": "Cyb5d_D_HFg2"
      },
      "source": [
        "matrix = sample_array.reshape(5,6)"
      ],
      "execution_count": 88,
      "outputs": []
    },
    {
      "cell_type": "code",
      "metadata": {
        "id": "TUjs0gRkHLAg",
        "outputId": "134ab2e8-99b1-4b76-d436-2abbb1030c60",
        "colab": {
          "base_uri": "https://localhost:8080/"
        }
      },
      "source": [
        "matrix.T"
      ],
      "execution_count": 89,
      "outputs": [
        {
          "output_type": "execute_result",
          "data": {
            "text/plain": [
              "array([[ 1,  7, 13, 19, 25],\n",
              "       [ 2,  8, 14, 20, 26],\n",
              "       [ 3,  9, 15, 21, 27],\n",
              "       [ 4, 10, 16, 22, 28],\n",
              "       [ 5, 11, 17, 23, 29],\n",
              "       [ 6, 12, 18, 24, 30]])"
            ]
          },
          "metadata": {
            "tags": []
          },
          "execution_count": 89
        }
      ]
    },
    {
      "cell_type": "code",
      "metadata": {
        "id": "j_nhkd2tHM1L"
      },
      "source": [
        "sample_array[:]=100"
      ],
      "execution_count": 90,
      "outputs": []
    },
    {
      "cell_type": "code",
      "metadata": {
        "id": "ET6hKrKsHaFm",
        "outputId": "7011a33c-945d-42ec-95b0-abbea363ffbb",
        "colab": {
          "base_uri": "https://localhost:8080/"
        }
      },
      "source": [
        "sample_array"
      ],
      "execution_count": 91,
      "outputs": [
        {
          "output_type": "execute_result",
          "data": {
            "text/plain": [
              "array([100, 100, 100, 100, 100, 100, 100, 100, 100, 100, 100, 100, 100,\n",
              "       100, 100, 100, 100, 100, 100, 100, 100, 100, 100, 100, 100, 100,\n",
              "       100, 100, 100, 100])"
            ]
          },
          "metadata": {
            "tags": []
          },
          "execution_count": 91
        }
      ]
    },
    {
      "cell_type": "code",
      "metadata": {
        "id": "9ZgmBCqpHbRu",
        "outputId": "2efc1884-0a17-4639-bf2c-dbb67b4846df",
        "colab": {
          "base_uri": "https://localhost:8080/"
        }
      },
      "source": [
        "matrix"
      ],
      "execution_count": 92,
      "outputs": [
        {
          "output_type": "execute_result",
          "data": {
            "text/plain": [
              "array([[100, 100, 100, 100, 100, 100],\n",
              "       [100, 100, 100, 100, 100, 100],\n",
              "       [100, 100, 100, 100, 100, 100],\n",
              "       [100, 100, 100, 100, 100, 100],\n",
              "       [100, 100, 100, 100, 100, 100]])"
            ]
          },
          "metadata": {
            "tags": []
          },
          "execution_count": 92
        }
      ]
    },
    {
      "cell_type": "code",
      "metadata": {
        "id": "tzLTwrcXHc5g"
      },
      "source": [
        "sample_matrix = np.array([[50,200,5,20],[10,35,50,15],[25,100,145,120],[105,25,65,80]])"
      ],
      "execution_count": 93,
      "outputs": []
    },
    {
      "cell_type": "code",
      "metadata": {
        "id": "6V3u_PubH0AS",
        "outputId": "84911629-8489-4357-902d-b7908adef2dc",
        "colab": {
          "base_uri": "https://localhost:8080/"
        }
      },
      "source": [
        "sample_matrix"
      ],
      "execution_count": 94,
      "outputs": [
        {
          "output_type": "execute_result",
          "data": {
            "text/plain": [
              "array([[ 50, 200,   5,  20],\n",
              "       [ 10,  35,  50,  15],\n",
              "       [ 25, 100, 145, 120],\n",
              "       [105,  25,  65,  80]])"
            ]
          },
          "metadata": {
            "tags": []
          },
          "execution_count": 94
        }
      ]
    },
    {
      "cell_type": "code",
      "metadata": {
        "id": "993Ai3NJH3JJ",
        "outputId": "662d60a7-ac11-4adb-a703-dfbbc8fd5a4c",
        "colab": {
          "base_uri": "https://localhost:8080/"
        }
      },
      "source": [
        "sample_matrix[1,1]"
      ],
      "execution_count": 95,
      "outputs": [
        {
          "output_type": "execute_result",
          "data": {
            "text/plain": [
              "35"
            ]
          },
          "metadata": {
            "tags": []
          },
          "execution_count": 95
        }
      ]
    },
    {
      "cell_type": "code",
      "metadata": {
        "id": "_B0tlOsaH67l",
        "outputId": "5a34e6fd-96bc-4c7f-e762-e79b41fd9718",
        "colab": {
          "base_uri": "https://localhost:8080/"
        }
      },
      "source": [
        "sample_matrix[1][1]"
      ],
      "execution_count": 96,
      "outputs": [
        {
          "output_type": "execute_result",
          "data": {
            "text/plain": [
              "35"
            ]
          },
          "metadata": {
            "tags": []
          },
          "execution_count": 96
        }
      ]
    },
    {
      "cell_type": "code",
      "metadata": {
        "id": "IzccsTwlH-B4",
        "outputId": "457c1b20-ad36-4be5-809b-d9ef15a03a6c",
        "colab": {
          "base_uri": "https://localhost:8080/"
        }
      },
      "source": [
        "sample_matrix[:3,1:]"
      ],
      "execution_count": 97,
      "outputs": [
        {
          "output_type": "execute_result",
          "data": {
            "text/plain": [
              "array([[200,   5,  20],\n",
              "       [ 35,  50,  15],\n",
              "       [100, 145, 120]])"
            ]
          },
          "metadata": {
            "tags": []
          },
          "execution_count": 97
        }
      ]
    },
    {
      "cell_type": "code",
      "metadata": {
        "id": "0KbQFrdHIDf8",
        "outputId": "2c04083c-a9fd-48ee-bd18-8d7dfef36060",
        "colab": {
          "base_uri": "https://localhost:8080/"
        }
      },
      "source": [
        "sample_matrix[0,:]"
      ],
      "execution_count": 98,
      "outputs": [
        {
          "output_type": "execute_result",
          "data": {
            "text/plain": [
              "array([ 50, 200,   5,  20])"
            ]
          },
          "metadata": {
            "tags": []
          },
          "execution_count": 98
        }
      ]
    },
    {
      "cell_type": "code",
      "metadata": {
        "id": "3ErDENQDIK1p",
        "outputId": "5bc544ce-3b3f-45ad-8310-d16df94d541f",
        "colab": {
          "base_uri": "https://localhost:8080/"
        }
      },
      "source": [
        "sample_matrix[:,0]"
      ],
      "execution_count": 99,
      "outputs": [
        {
          "output_type": "execute_result",
          "data": {
            "text/plain": [
              "array([ 50,  10,  25, 105])"
            ]
          },
          "metadata": {
            "tags": []
          },
          "execution_count": 99
        }
      ]
    },
    {
      "cell_type": "code",
      "metadata": {
        "id": "Hy4fMADfIOlp",
        "outputId": "6dd36758-e0e5-4996-8e03-f80586e95d64",
        "colab": {
          "base_uri": "https://localhost:8080/"
        }
      },
      "source": [
        "sample_matrix[:,(0,3,1)]"
      ],
      "execution_count": 100,
      "outputs": [
        {
          "output_type": "execute_result",
          "data": {
            "text/plain": [
              "array([[ 50,  20, 200],\n",
              "       [ 10,  15,  35],\n",
              "       [ 25, 120, 100],\n",
              "       [105,  80,  25]])"
            ]
          },
          "metadata": {
            "tags": []
          },
          "execution_count": 100
        }
      ]
    },
    {
      "cell_type": "code",
      "metadata": {
        "id": "z75bbLBeIU9c"
      },
      "source": [
        "#Tuple - (1,2,3)\n",
        "#List - [1,2,3]"
      ],
      "execution_count": 101,
      "outputs": []
    },
    {
      "cell_type": "code",
      "metadata": {
        "id": "tHKYKdKsIiTH",
        "outputId": "c6ef3eba-7cfe-4c73-c1cc-dae20501ad78",
        "colab": {
          "base_uri": "https://localhost:8080/",
          "height": 163
        }
      },
      "source": [
        "(1,2,3)+5"
      ],
      "execution_count": 102,
      "outputs": [
        {
          "output_type": "error",
          "ename": "TypeError",
          "evalue": "ignored",
          "traceback": [
            "\u001b[0;31m---------------------------------------------------------------------------\u001b[0m",
            "\u001b[0;31mTypeError\u001b[0m                                 Traceback (most recent call last)",
            "\u001b[0;32m<ipython-input-102-95273bb56324>\u001b[0m in \u001b[0;36m<module>\u001b[0;34m()\u001b[0m\n\u001b[0;32m----> 1\u001b[0;31m \u001b[0;34m(\u001b[0m\u001b[0;36m1\u001b[0m\u001b[0;34m,\u001b[0m\u001b[0;36m2\u001b[0m\u001b[0;34m,\u001b[0m\u001b[0;36m3\u001b[0m\u001b[0;34m)\u001b[0m\u001b[0;34m+\u001b[0m\u001b[0;36m5\u001b[0m\u001b[0;34m\u001b[0m\u001b[0;34m\u001b[0m\u001b[0m\n\u001b[0m",
            "\u001b[0;31mTypeError\u001b[0m: can only concatenate tuple (not \"int\") to tuple"
          ]
        }
      ]
    },
    {
      "cell_type": "code",
      "metadata": {
        "id": "3xLyztw6IkyL",
        "outputId": "cfb3e804-0b54-4a18-c639-1e0eb6b71741",
        "colab": {
          "base_uri": "https://localhost:8080/"
        }
      },
      "source": [
        "  simple_array = np.arange(1,31)\n",
        "  simple_array"
      ],
      "execution_count": 105,
      "outputs": [
        {
          "output_type": "execute_result",
          "data": {
            "text/plain": [
              "array([ 1,  2,  3,  4,  5,  6,  7,  8,  9, 10, 11, 12, 13, 14, 15, 16, 17,\n",
              "       18, 19, 20, 21, 22, 23, 24, 25, 26, 27, 28, 29, 30])"
            ]
          },
          "metadata": {
            "tags": []
          },
          "execution_count": 105
        }
      ]
    },
    {
      "cell_type": "code",
      "metadata": {
        "id": "EA0kwK-CIuT2",
        "outputId": "fb516c36-767a-44f1-d38d-5b210fb4ceb7",
        "colab": {
          "base_uri": "https://localhost:8080/"
        }
      },
      "source": [
        "simple_array<10"
      ],
      "execution_count": 106,
      "outputs": [
        {
          "output_type": "execute_result",
          "data": {
            "text/plain": [
              "array([ True,  True,  True,  True,  True,  True,  True,  True,  True,\n",
              "       False, False, False, False, False, False, False, False, False,\n",
              "       False, False, False, False, False, False, False, False, False,\n",
              "       False, False, False])"
            ]
          },
          "metadata": {
            "tags": []
          },
          "execution_count": 106
        }
      ]
    },
    {
      "cell_type": "code",
      "metadata": {
        "id": "EWC6m-AdI5sn"
      },
      "source": [
        "cond = simple_array<10"
      ],
      "execution_count": 107,
      "outputs": []
    },
    {
      "cell_type": "code",
      "metadata": {
        "id": "9rEKy3-qI9Pz",
        "outputId": "5691c3fe-3ac7-4994-a7cc-f2dd9160d336",
        "colab": {
          "base_uri": "https://localhost:8080/"
        }
      },
      "source": [
        "simple_array[simple_array<10]"
      ],
      "execution_count": 108,
      "outputs": [
        {
          "output_type": "execute_result",
          "data": {
            "text/plain": [
              "array([1, 2, 3, 4, 5, 6, 7, 8, 9])"
            ]
          },
          "metadata": {
            "tags": []
          },
          "execution_count": 108
        }
      ]
    },
    {
      "cell_type": "code",
      "metadata": {
        "id": "KGKOtpvRJCQo",
        "outputId": "0c01cd99-0d12-4f83-d9ca-1c7251589b23",
        "colab": {
          "base_uri": "https://localhost:8080/"
        }
      },
      "source": [
        "simple_array[cond]"
      ],
      "execution_count": 109,
      "outputs": [
        {
          "output_type": "execute_result",
          "data": {
            "text/plain": [
              "array([1, 2, 3, 4, 5, 6, 7, 8, 9])"
            ]
          },
          "metadata": {
            "tags": []
          },
          "execution_count": 109
        }
      ]
    },
    {
      "cell_type": "code",
      "metadata": {
        "id": "3kEd7Jw7JFAm",
        "outputId": "a89f056d-f6eb-424a-df44-cc93e11aff6e",
        "colab": {
          "base_uri": "https://localhost:8080/"
        }
      },
      "source": [
        "simple_array1 = np.arange(0,21)\n",
        "simple_array1"
      ],
      "execution_count": 114,
      "outputs": [
        {
          "output_type": "execute_result",
          "data": {
            "text/plain": [
              "array([ 0,  1,  2,  3,  4,  5,  6,  7,  8,  9, 10, 11, 12, 13, 14, 15, 16,\n",
              "       17, 18, 19, 20])"
            ]
          },
          "metadata": {
            "tags": []
          },
          "execution_count": 114
        }
      ]
    },
    {
      "cell_type": "code",
      "metadata": {
        "id": "CkAAPr2qLi20",
        "outputId": "056d5c3e-a48a-4a82-9910-c9440dcd89c0",
        "colab": {
          "base_uri": "https://localhost:8080/"
        }
      },
      "source": [
        "simple_array1+simple_array1"
      ],
      "execution_count": 115,
      "outputs": [
        {
          "output_type": "execute_result",
          "data": {
            "text/plain": [
              "array([ 0,  2,  4,  6,  8, 10, 12, 14, 16, 18, 20, 22, 24, 26, 28, 30, 32,\n",
              "       34, 36, 38, 40])"
            ]
          },
          "metadata": {
            "tags": []
          },
          "execution_count": 115
        }
      ]
    },
    {
      "cell_type": "code",
      "metadata": {
        "id": "s5S7oWSHLvbs",
        "outputId": "1d2fb298-a471-4c1a-a4ac-a517b2440067",
        "colab": {
          "base_uri": "https://localhost:8080/"
        }
      },
      "source": [
        "simple_array1*simple_array1"
      ],
      "execution_count": 116,
      "outputs": [
        {
          "output_type": "execute_result",
          "data": {
            "text/plain": [
              "array([  0,   1,   4,   9,  16,  25,  36,  49,  64,  81, 100, 121, 144,\n",
              "       169, 196, 225, 256, 289, 324, 361, 400])"
            ]
          },
          "metadata": {
            "tags": []
          },
          "execution_count": 116
        }
      ]
    },
    {
      "cell_type": "code",
      "metadata": {
        "id": "0L5FNTRdL5i_",
        "outputId": "412cb0f7-e0a2-4d57-832e-510ec5ebe605",
        "colab": {
          "base_uri": "https://localhost:8080/"
        }
      },
      "source": [
        "simple_array1**2"
      ],
      "execution_count": 117,
      "outputs": [
        {
          "output_type": "execute_result",
          "data": {
            "text/plain": [
              "array([  0,   1,   4,   9,  16,  25,  36,  49,  64,  81, 100, 121, 144,\n",
              "       169, 196, 225, 256, 289, 324, 361, 400])"
            ]
          },
          "metadata": {
            "tags": []
          },
          "execution_count": 117
        }
      ]
    },
    {
      "cell_type": "code",
      "metadata": {
        "id": "TB4Utv0FMFhQ",
        "outputId": "48abd7b3-772b-403c-dd53-000574939cb0",
        "colab": {
          "base_uri": "https://localhost:8080/"
        }
      },
      "source": [
        "np.sqrt(simple_array1)"
      ],
      "execution_count": 118,
      "outputs": [
        {
          "output_type": "execute_result",
          "data": {
            "text/plain": [
              "array([0.        , 1.        , 1.41421356, 1.73205081, 2.        ,\n",
              "       2.23606798, 2.44948974, 2.64575131, 2.82842712, 3.        ,\n",
              "       3.16227766, 3.31662479, 3.46410162, 3.60555128, 3.74165739,\n",
              "       3.87298335, 4.        , 4.12310563, 4.24264069, 4.35889894,\n",
              "       4.47213595])"
            ]
          },
          "metadata": {
            "tags": []
          },
          "execution_count": 118
        }
      ]
    },
    {
      "cell_type": "code",
      "metadata": {
        "id": "gzOPzFfcMeA3",
        "outputId": "029cbcc0-f342-466d-990a-960630d20d98",
        "colab": {
          "base_uri": "https://localhost:8080/"
        }
      },
      "source": [
        "np.exp(simple_array1)"
      ],
      "execution_count": 119,
      "outputs": [
        {
          "output_type": "execute_result",
          "data": {
            "text/plain": [
              "array([1.00000000e+00, 2.71828183e+00, 7.38905610e+00, 2.00855369e+01,\n",
              "       5.45981500e+01, 1.48413159e+02, 4.03428793e+02, 1.09663316e+03,\n",
              "       2.98095799e+03, 8.10308393e+03, 2.20264658e+04, 5.98741417e+04,\n",
              "       1.62754791e+05, 4.42413392e+05, 1.20260428e+06, 3.26901737e+06,\n",
              "       8.88611052e+06, 2.41549528e+07, 6.56599691e+07, 1.78482301e+08,\n",
              "       4.85165195e+08])"
            ]
          },
          "metadata": {
            "tags": []
          },
          "execution_count": 119
        }
      ]
    },
    {
      "cell_type": "code",
      "metadata": {
        "id": "wFeHmbstMrwb",
        "outputId": "73a0f597-cd68-42de-d8a3-fbb050b04687",
        "colab": {
          "base_uri": "https://localhost:8080/"
        }
      },
      "source": [
        "array_2= np.random.randn(5,5)\n",
        "array_2"
      ],
      "execution_count": 122,
      "outputs": [
        {
          "output_type": "execute_result",
          "data": {
            "text/plain": [
              "array([[ 0.45955601, -0.37560689, -1.00334081, -0.47560443, -2.59776073],\n",
              "       [ 0.6067885 ,  0.34103511,  1.36966099, -1.19953983,  0.53116741],\n",
              "       [-0.31305827,  2.22566751, -0.58060379,  0.2353704 , -0.55125062],\n",
              "       [ 0.79918671, -0.15048689, -1.21169904,  0.535678  , -0.20192237],\n",
              "       [ 1.31247739,  0.12992963,  1.02399445,  1.59880968, -1.59464802]])"
            ]
          },
          "metadata": {
            "tags": []
          },
          "execution_count": 122
        }
      ]
    },
    {
      "cell_type": "code",
      "metadata": {
        "id": "WcOLxHzFXmC_",
        "outputId": "b441f2d7-6858-4f28-a35e-ab0310bfcaa8",
        "colab": {
          "base_uri": "https://localhost:8080/"
        }
      },
      "source": [
        "np.round(array_2,decimals=2)"
      ],
      "execution_count": 123,
      "outputs": [
        {
          "output_type": "execute_result",
          "data": {
            "text/plain": [
              "array([[ 0.46, -0.38, -1.  , -0.48, -2.6 ],\n",
              "       [ 0.61,  0.34,  1.37, -1.2 ,  0.53],\n",
              "       [-0.31,  2.23, -0.58,  0.24, -0.55],\n",
              "       [ 0.8 , -0.15, -1.21,  0.54, -0.2 ],\n",
              "       [ 1.31,  0.13,  1.02,  1.6 , -1.59]])"
            ]
          },
          "metadata": {
            "tags": []
          },
          "execution_count": 123
        }
      ]
    },
    {
      "cell_type": "code",
      "metadata": {
        "id": "QgO82cCWX8sG",
        "outputId": "51513f04-fc4b-4a1d-d6fd-a726914a4791",
        "colab": {
          "base_uri": "https://localhost:8080/"
        }
      },
      "source": [
        "np.std(array_2)"
      ],
      "execution_count": 124,
      "outputs": [
        {
          "output_type": "execute_result",
          "data": {
            "text/plain": [
              "1.067221207050609"
            ]
          },
          "metadata": {
            "tags": []
          },
          "execution_count": 124
        }
      ]
    },
    {
      "cell_type": "code",
      "metadata": {
        "id": "L2yFZ2jFYFwd",
        "outputId": "065245e7-e784-4f34-da71-991ef6ec22d5",
        "colab": {
          "base_uri": "https://localhost:8080/"
        }
      },
      "source": [
        "np.var(array_2)"
      ],
      "execution_count": 125,
      "outputs": [
        {
          "output_type": "execute_result",
          "data": {
            "text/plain": [
              "1.138961104778559"
            ]
          },
          "metadata": {
            "tags": []
          },
          "execution_count": 125
        }
      ]
    },
    {
      "cell_type": "code",
      "metadata": {
        "id": "DzeFDDtnYMkj"
      },
      "source": [
        "np.save('array', array_2)"
      ],
      "execution_count": 126,
      "outputs": []
    },
    {
      "cell_type": "code",
      "metadata": {
        "id": "w6YgfDBHZZTG",
        "outputId": "5cd74b26-b5a0-4cb3-911f-08296fb807a0",
        "colab": {
          "base_uri": "https://localhost:8080/"
        }
      },
      "source": [
        "np.load('array.npy')"
      ],
      "execution_count": 128,
      "outputs": [
        {
          "output_type": "execute_result",
          "data": {
            "text/plain": [
              "array([[ 0.45955601, -0.37560689, -1.00334081, -0.47560443, -2.59776073],\n",
              "       [ 0.6067885 ,  0.34103511,  1.36966099, -1.19953983,  0.53116741],\n",
              "       [-0.31305827,  2.22566751, -0.58060379,  0.2353704 , -0.55125062],\n",
              "       [ 0.79918671, -0.15048689, -1.21169904,  0.535678  , -0.20192237],\n",
              "       [ 1.31247739,  0.12992963,  1.02399445,  1.59880968, -1.59464802]])"
            ]
          },
          "metadata": {
            "tags": []
          },
          "execution_count": 128
        }
      ]
    },
    {
      "cell_type": "code",
      "metadata": {
        "id": "KDj0hkOSZcjJ"
      },
      "source": [
        "np.savetxt('my_txt',array_2)"
      ],
      "execution_count": 129,
      "outputs": []
    },
    {
      "cell_type": "code",
      "metadata": {
        "id": "IjRlBsUEZrdL",
        "outputId": "30b17ee2-31ce-46c1-a1d9-6f2719997098",
        "colab": {
          "base_uri": "https://localhost:8080/"
        }
      },
      "source": [
        "np.loadtxt('my_txt')"
      ],
      "execution_count": 132,
      "outputs": [
        {
          "output_type": "execute_result",
          "data": {
            "text/plain": [
              "array([[ 0.45955601, -0.37560689, -1.00334081, -0.47560443, -2.59776073],\n",
              "       [ 0.6067885 ,  0.34103511,  1.36966099, -1.19953983,  0.53116741],\n",
              "       [-0.31305827,  2.22566751, -0.58060379,  0.2353704 , -0.55125062],\n",
              "       [ 0.79918671, -0.15048689, -1.21169904,  0.535678  , -0.20192237],\n",
              "       [ 1.31247739,  0.12992963,  1.02399445,  1.59880968, -1.59464802]])"
            ]
          },
          "metadata": {
            "tags": []
          },
          "execution_count": 132
        }
      ]
    },
    {
      "cell_type": "code",
      "metadata": {
        "id": "2vm-U00IZ2Ja"
      },
      "source": [
        "#Series & Dataframes\n",
        "import pandas as pd"
      ],
      "execution_count": 1,
      "outputs": []
    },
    {
      "cell_type": "code",
      "metadata": {
        "id": "nqALSe9d6mCF",
        "outputId": "9805565b-e3f0-4e4f-c5c5-7b5834a3275a",
        "colab": {
          "base_uri": "https://localhost:8080/"
        }
      },
      "source": [
        "a = pd.Series([1,2,3,4,5], index=['a','b','c','d','e'])\n",
        "a"
      ],
      "execution_count": 4,
      "outputs": [
        {
          "output_type": "execute_result",
          "data": {
            "text/plain": [
              "a    1\n",
              "b    2\n",
              "c    3\n",
              "d    4\n",
              "e    5\n",
              "dtype: int64"
            ]
          },
          "metadata": {
            "tags": []
          },
          "execution_count": 4
        }
      ]
    },
    {
      "cell_type": "code",
      "metadata": {
        "id": "KWCBMQzL6uDb",
        "outputId": "49b2b75d-e2a3-4a11-9b3b-924b7faf7edb",
        "colab": {
          "base_uri": "https://localhost:8080/"
        }
      },
      "source": [
        "a[0]"
      ],
      "execution_count": 5,
      "outputs": [
        {
          "output_type": "execute_result",
          "data": {
            "text/plain": [
              "1"
            ]
          },
          "metadata": {
            "tags": []
          },
          "execution_count": 5
        }
      ]
    },
    {
      "cell_type": "code",
      "metadata": {
        "id": "oSfgviaW6-qp",
        "outputId": "3d836ff5-463b-4dbd-acc3-5f9403f48fe2",
        "colab": {
          "base_uri": "https://localhost:8080/"
        }
      },
      "source": [
        "a['a']"
      ],
      "execution_count": 6,
      "outputs": [
        {
          "output_type": "execute_result",
          "data": {
            "text/plain": [
              "1"
            ]
          },
          "metadata": {
            "tags": []
          },
          "execution_count": 6
        }
      ]
    },
    {
      "cell_type": "code",
      "metadata": {
        "id": "V9u3W3yy6_-2"
      },
      "source": [
        "matrix = np.random.randn(10,5)"
      ],
      "execution_count": 9,
      "outputs": []
    },
    {
      "cell_type": "code",
      "metadata": {
        "id": "Rr3VP-EP7Jxk"
      },
      "source": [
        "df = pd.DataFrame(matrix, index='A B C D E F G H I J'.split(), columns='Score1 Score2 Score3 Score4 Score5'.split())"
      ],
      "execution_count": 10,
      "outputs": []
    },
    {
      "cell_type": "code",
      "metadata": {
        "id": "wvKHTW2P8Grn",
        "outputId": "d9dac92e-77e7-4db2-929e-31b6f8302241",
        "colab": {
          "base_uri": "https://localhost:8080/"
        }
      },
      "source": [
        "'A B C D E F G H I J'.split()"
      ],
      "execution_count": 11,
      "outputs": [
        {
          "output_type": "execute_result",
          "data": {
            "text/plain": [
              "['A', 'B', 'C', 'D', 'E', 'F', 'G', 'H', 'I', 'J']"
            ]
          },
          "metadata": {
            "tags": []
          },
          "execution_count": 11
        }
      ]
    },
    {
      "cell_type": "code",
      "metadata": {
        "id": "KmeO1W3s8Kr8",
        "outputId": "6c543486-25d2-4c52-c9ab-59b7c77d1dba",
        "colab": {
          "base_uri": "https://localhost:8080/"
        }
      },
      "source": [
        "'Score1 Score2 Score3 Score4 Score5'.split()"
      ],
      "execution_count": 12,
      "outputs": [
        {
          "output_type": "execute_result",
          "data": {
            "text/plain": [
              "['Score1', 'Score2', 'Score3', 'Score4', 'Score5']"
            ]
          },
          "metadata": {
            "tags": []
          },
          "execution_count": 12
        }
      ]
    },
    {
      "cell_type": "code",
      "metadata": {
        "id": "4FLutwhS8PLi",
        "outputId": "b9e0603a-e28b-4fd4-e025-24794d90d86f",
        "colab": {
          "base_uri": "https://localhost:8080/"
        }
      },
      "source": [
        "df['Score1']"
      ],
      "execution_count": 13,
      "outputs": [
        {
          "output_type": "execute_result",
          "data": {
            "text/plain": [
              "A   -0.455983\n",
              "B   -0.846840\n",
              "C    0.043319\n",
              "D   -0.261615\n",
              "E    0.222670\n",
              "F    0.070627\n",
              "G   -0.707708\n",
              "H    0.390598\n",
              "I    1.890886\n",
              "J   -1.400308\n",
              "Name: Score1, dtype: float64"
            ]
          },
          "metadata": {
            "tags": []
          },
          "execution_count": 13
        }
      ]
    },
    {
      "cell_type": "code",
      "metadata": {
        "id": "y7lBwDdN8Usi",
        "outputId": "785b91ab-6b3b-4a72-df49-19ec68441d84",
        "colab": {
          "base_uri": "https://localhost:8080/",
          "height": 359
        }
      },
      "source": [
        "df[['Score2','Score1']]"
      ],
      "execution_count": 14,
      "outputs": [
        {
          "output_type": "execute_result",
          "data": {
            "text/html": [
              "<div>\n",
              "<style scoped>\n",
              "    .dataframe tbody tr th:only-of-type {\n",
              "        vertical-align: middle;\n",
              "    }\n",
              "\n",
              "    .dataframe tbody tr th {\n",
              "        vertical-align: top;\n",
              "    }\n",
              "\n",
              "    .dataframe thead th {\n",
              "        text-align: right;\n",
              "    }\n",
              "</style>\n",
              "<table border=\"1\" class=\"dataframe\">\n",
              "  <thead>\n",
              "    <tr style=\"text-align: right;\">\n",
              "      <th></th>\n",
              "      <th>Score2</th>\n",
              "      <th>Score1</th>\n",
              "    </tr>\n",
              "  </thead>\n",
              "  <tbody>\n",
              "    <tr>\n",
              "      <th>A</th>\n",
              "      <td>0.508655</td>\n",
              "      <td>-0.455983</td>\n",
              "    </tr>\n",
              "    <tr>\n",
              "      <th>B</th>\n",
              "      <td>-0.993700</td>\n",
              "      <td>-0.846840</td>\n",
              "    </tr>\n",
              "    <tr>\n",
              "      <th>C</th>\n",
              "      <td>0.628590</td>\n",
              "      <td>0.043319</td>\n",
              "    </tr>\n",
              "    <tr>\n",
              "      <th>D</th>\n",
              "      <td>-0.455839</td>\n",
              "      <td>-0.261615</td>\n",
              "    </tr>\n",
              "    <tr>\n",
              "      <th>E</th>\n",
              "      <td>-0.104881</td>\n",
              "      <td>0.222670</td>\n",
              "    </tr>\n",
              "    <tr>\n",
              "      <th>F</th>\n",
              "      <td>0.892084</td>\n",
              "      <td>0.070627</td>\n",
              "    </tr>\n",
              "    <tr>\n",
              "      <th>G</th>\n",
              "      <td>-0.008452</td>\n",
              "      <td>-0.707708</td>\n",
              "    </tr>\n",
              "    <tr>\n",
              "      <th>H</th>\n",
              "      <td>-0.119509</td>\n",
              "      <td>0.390598</td>\n",
              "    </tr>\n",
              "    <tr>\n",
              "      <th>I</th>\n",
              "      <td>-0.794051</td>\n",
              "      <td>1.890886</td>\n",
              "    </tr>\n",
              "    <tr>\n",
              "      <th>J</th>\n",
              "      <td>0.471286</td>\n",
              "      <td>-1.400308</td>\n",
              "    </tr>\n",
              "  </tbody>\n",
              "</table>\n",
              "</div>"
            ],
            "text/plain": [
              "     Score2    Score1\n",
              "A  0.508655 -0.455983\n",
              "B -0.993700 -0.846840\n",
              "C  0.628590  0.043319\n",
              "D -0.455839 -0.261615\n",
              "E -0.104881  0.222670\n",
              "F  0.892084  0.070627\n",
              "G -0.008452 -0.707708\n",
              "H -0.119509  0.390598\n",
              "I -0.794051  1.890886\n",
              "J  0.471286 -1.400308"
            ]
          },
          "metadata": {
            "tags": []
          },
          "execution_count": 14
        }
      ]
    },
    {
      "cell_type": "code",
      "metadata": {
        "id": "I0tFVwWO8iCA"
      },
      "source": [
        "df['Score6'] = df['Score1'] + df['Score2']"
      ],
      "execution_count": 15,
      "outputs": []
    },
    {
      "cell_type": "code",
      "metadata": {
        "id": "0aaWcA2i8uvk",
        "outputId": "02dd15c4-9e6e-4ffc-ba84-dfc923e7d34c",
        "colab": {
          "base_uri": "https://localhost:8080/",
          "height": 359
        }
      },
      "source": [
        "df"
      ],
      "execution_count": 16,
      "outputs": [
        {
          "output_type": "execute_result",
          "data": {
            "text/html": [
              "<div>\n",
              "<style scoped>\n",
              "    .dataframe tbody tr th:only-of-type {\n",
              "        vertical-align: middle;\n",
              "    }\n",
              "\n",
              "    .dataframe tbody tr th {\n",
              "        vertical-align: top;\n",
              "    }\n",
              "\n",
              "    .dataframe thead th {\n",
              "        text-align: right;\n",
              "    }\n",
              "</style>\n",
              "<table border=\"1\" class=\"dataframe\">\n",
              "  <thead>\n",
              "    <tr style=\"text-align: right;\">\n",
              "      <th></th>\n",
              "      <th>Score1</th>\n",
              "      <th>Score2</th>\n",
              "      <th>Score3</th>\n",
              "      <th>Score4</th>\n",
              "      <th>Score5</th>\n",
              "      <th>Score6</th>\n",
              "    </tr>\n",
              "  </thead>\n",
              "  <tbody>\n",
              "    <tr>\n",
              "      <th>A</th>\n",
              "      <td>-0.455983</td>\n",
              "      <td>0.508655</td>\n",
              "      <td>-0.651779</td>\n",
              "      <td>0.354870</td>\n",
              "      <td>1.561775</td>\n",
              "      <td>0.052673</td>\n",
              "    </tr>\n",
              "    <tr>\n",
              "      <th>B</th>\n",
              "      <td>-0.846840</td>\n",
              "      <td>-0.993700</td>\n",
              "      <td>0.227699</td>\n",
              "      <td>1.300773</td>\n",
              "      <td>-0.011622</td>\n",
              "      <td>-1.840540</td>\n",
              "    </tr>\n",
              "    <tr>\n",
              "      <th>C</th>\n",
              "      <td>0.043319</td>\n",
              "      <td>0.628590</td>\n",
              "      <td>0.729804</td>\n",
              "      <td>-0.349284</td>\n",
              "      <td>-1.038845</td>\n",
              "      <td>0.671910</td>\n",
              "    </tr>\n",
              "    <tr>\n",
              "      <th>D</th>\n",
              "      <td>-0.261615</td>\n",
              "      <td>-0.455839</td>\n",
              "      <td>1.709482</td>\n",
              "      <td>-0.267408</td>\n",
              "      <td>-1.216441</td>\n",
              "      <td>-0.717454</td>\n",
              "    </tr>\n",
              "    <tr>\n",
              "      <th>E</th>\n",
              "      <td>0.222670</td>\n",
              "      <td>-0.104881</td>\n",
              "      <td>-0.619016</td>\n",
              "      <td>0.391157</td>\n",
              "      <td>1.754480</td>\n",
              "      <td>0.117789</td>\n",
              "    </tr>\n",
              "    <tr>\n",
              "      <th>F</th>\n",
              "      <td>0.070627</td>\n",
              "      <td>0.892084</td>\n",
              "      <td>-1.839866</td>\n",
              "      <td>1.343564</td>\n",
              "      <td>-0.000818</td>\n",
              "      <td>0.962711</td>\n",
              "    </tr>\n",
              "    <tr>\n",
              "      <th>G</th>\n",
              "      <td>-0.707708</td>\n",
              "      <td>-0.008452</td>\n",
              "      <td>0.760333</td>\n",
              "      <td>-0.799178</td>\n",
              "      <td>-0.306439</td>\n",
              "      <td>-0.716160</td>\n",
              "    </tr>\n",
              "    <tr>\n",
              "      <th>H</th>\n",
              "      <td>0.390598</td>\n",
              "      <td>-0.119509</td>\n",
              "      <td>-0.500464</td>\n",
              "      <td>1.775979</td>\n",
              "      <td>1.217420</td>\n",
              "      <td>0.271089</td>\n",
              "    </tr>\n",
              "    <tr>\n",
              "      <th>I</th>\n",
              "      <td>1.890886</td>\n",
              "      <td>-0.794051</td>\n",
              "      <td>-0.827437</td>\n",
              "      <td>-0.138065</td>\n",
              "      <td>-0.451077</td>\n",
              "      <td>1.096835</td>\n",
              "    </tr>\n",
              "    <tr>\n",
              "      <th>J</th>\n",
              "      <td>-1.400308</td>\n",
              "      <td>0.471286</td>\n",
              "      <td>-1.632707</td>\n",
              "      <td>-0.621886</td>\n",
              "      <td>-0.058172</td>\n",
              "      <td>-0.929022</td>\n",
              "    </tr>\n",
              "  </tbody>\n",
              "</table>\n",
              "</div>"
            ],
            "text/plain": [
              "     Score1    Score2    Score3    Score4    Score5    Score6\n",
              "A -0.455983  0.508655 -0.651779  0.354870  1.561775  0.052673\n",
              "B -0.846840 -0.993700  0.227699  1.300773 -0.011622 -1.840540\n",
              "C  0.043319  0.628590  0.729804 -0.349284 -1.038845  0.671910\n",
              "D -0.261615 -0.455839  1.709482 -0.267408 -1.216441 -0.717454\n",
              "E  0.222670 -0.104881 -0.619016  0.391157  1.754480  0.117789\n",
              "F  0.070627  0.892084 -1.839866  1.343564 -0.000818  0.962711\n",
              "G -0.707708 -0.008452  0.760333 -0.799178 -0.306439 -0.716160\n",
              "H  0.390598 -0.119509 -0.500464  1.775979  1.217420  0.271089\n",
              "I  1.890886 -0.794051 -0.827437 -0.138065 -0.451077  1.096835\n",
              "J -1.400308  0.471286 -1.632707 -0.621886 -0.058172 -0.929022"
            ]
          },
          "metadata": {
            "tags": []
          },
          "execution_count": 16
        }
      ]
    },
    {
      "cell_type": "code",
      "metadata": {
        "id": "WoLBhyEt8wK0",
        "outputId": "acbaa996-8d23-43b8-93bc-c165d91f351b",
        "colab": {
          "base_uri": "https://localhost:8080/",
          "height": 359
        }
      },
      "source": [
        "df.drop('Score6',axis=1)"
      ],
      "execution_count": 18,
      "outputs": [
        {
          "output_type": "execute_result",
          "data": {
            "text/html": [
              "<div>\n",
              "<style scoped>\n",
              "    .dataframe tbody tr th:only-of-type {\n",
              "        vertical-align: middle;\n",
              "    }\n",
              "\n",
              "    .dataframe tbody tr th {\n",
              "        vertical-align: top;\n",
              "    }\n",
              "\n",
              "    .dataframe thead th {\n",
              "        text-align: right;\n",
              "    }\n",
              "</style>\n",
              "<table border=\"1\" class=\"dataframe\">\n",
              "  <thead>\n",
              "    <tr style=\"text-align: right;\">\n",
              "      <th></th>\n",
              "      <th>Score1</th>\n",
              "      <th>Score2</th>\n",
              "      <th>Score3</th>\n",
              "      <th>Score4</th>\n",
              "      <th>Score5</th>\n",
              "    </tr>\n",
              "  </thead>\n",
              "  <tbody>\n",
              "    <tr>\n",
              "      <th>A</th>\n",
              "      <td>-0.455983</td>\n",
              "      <td>0.508655</td>\n",
              "      <td>-0.651779</td>\n",
              "      <td>0.354870</td>\n",
              "      <td>1.561775</td>\n",
              "    </tr>\n",
              "    <tr>\n",
              "      <th>B</th>\n",
              "      <td>-0.846840</td>\n",
              "      <td>-0.993700</td>\n",
              "      <td>0.227699</td>\n",
              "      <td>1.300773</td>\n",
              "      <td>-0.011622</td>\n",
              "    </tr>\n",
              "    <tr>\n",
              "      <th>C</th>\n",
              "      <td>0.043319</td>\n",
              "      <td>0.628590</td>\n",
              "      <td>0.729804</td>\n",
              "      <td>-0.349284</td>\n",
              "      <td>-1.038845</td>\n",
              "    </tr>\n",
              "    <tr>\n",
              "      <th>D</th>\n",
              "      <td>-0.261615</td>\n",
              "      <td>-0.455839</td>\n",
              "      <td>1.709482</td>\n",
              "      <td>-0.267408</td>\n",
              "      <td>-1.216441</td>\n",
              "    </tr>\n",
              "    <tr>\n",
              "      <th>E</th>\n",
              "      <td>0.222670</td>\n",
              "      <td>-0.104881</td>\n",
              "      <td>-0.619016</td>\n",
              "      <td>0.391157</td>\n",
              "      <td>1.754480</td>\n",
              "    </tr>\n",
              "    <tr>\n",
              "      <th>F</th>\n",
              "      <td>0.070627</td>\n",
              "      <td>0.892084</td>\n",
              "      <td>-1.839866</td>\n",
              "      <td>1.343564</td>\n",
              "      <td>-0.000818</td>\n",
              "    </tr>\n",
              "    <tr>\n",
              "      <th>G</th>\n",
              "      <td>-0.707708</td>\n",
              "      <td>-0.008452</td>\n",
              "      <td>0.760333</td>\n",
              "      <td>-0.799178</td>\n",
              "      <td>-0.306439</td>\n",
              "    </tr>\n",
              "    <tr>\n",
              "      <th>H</th>\n",
              "      <td>0.390598</td>\n",
              "      <td>-0.119509</td>\n",
              "      <td>-0.500464</td>\n",
              "      <td>1.775979</td>\n",
              "      <td>1.217420</td>\n",
              "    </tr>\n",
              "    <tr>\n",
              "      <th>I</th>\n",
              "      <td>1.890886</td>\n",
              "      <td>-0.794051</td>\n",
              "      <td>-0.827437</td>\n",
              "      <td>-0.138065</td>\n",
              "      <td>-0.451077</td>\n",
              "    </tr>\n",
              "    <tr>\n",
              "      <th>J</th>\n",
              "      <td>-1.400308</td>\n",
              "      <td>0.471286</td>\n",
              "      <td>-1.632707</td>\n",
              "      <td>-0.621886</td>\n",
              "      <td>-0.058172</td>\n",
              "    </tr>\n",
              "  </tbody>\n",
              "</table>\n",
              "</div>"
            ],
            "text/plain": [
              "     Score1    Score2    Score3    Score4    Score5\n",
              "A -0.455983  0.508655 -0.651779  0.354870  1.561775\n",
              "B -0.846840 -0.993700  0.227699  1.300773 -0.011622\n",
              "C  0.043319  0.628590  0.729804 -0.349284 -1.038845\n",
              "D -0.261615 -0.455839  1.709482 -0.267408 -1.216441\n",
              "E  0.222670 -0.104881 -0.619016  0.391157  1.754480\n",
              "F  0.070627  0.892084 -1.839866  1.343564 -0.000818\n",
              "G -0.707708 -0.008452  0.760333 -0.799178 -0.306439\n",
              "H  0.390598 -0.119509 -0.500464  1.775979  1.217420\n",
              "I  1.890886 -0.794051 -0.827437 -0.138065 -0.451077\n",
              "J -1.400308  0.471286 -1.632707 -0.621886 -0.058172"
            ]
          },
          "metadata": {
            "tags": []
          },
          "execution_count": 18
        }
      ]
    },
    {
      "cell_type": "code",
      "metadata": {
        "id": "4gEC2mW783sE",
        "outputId": "59bfa5ad-25cf-4b60-c8af-dc44b027a222",
        "colab": {
          "base_uri": "https://localhost:8080/",
          "height": 359
        }
      },
      "source": [
        "df"
      ],
      "execution_count": 19,
      "outputs": [
        {
          "output_type": "execute_result",
          "data": {
            "text/html": [
              "<div>\n",
              "<style scoped>\n",
              "    .dataframe tbody tr th:only-of-type {\n",
              "        vertical-align: middle;\n",
              "    }\n",
              "\n",
              "    .dataframe tbody tr th {\n",
              "        vertical-align: top;\n",
              "    }\n",
              "\n",
              "    .dataframe thead th {\n",
              "        text-align: right;\n",
              "    }\n",
              "</style>\n",
              "<table border=\"1\" class=\"dataframe\">\n",
              "  <thead>\n",
              "    <tr style=\"text-align: right;\">\n",
              "      <th></th>\n",
              "      <th>Score1</th>\n",
              "      <th>Score2</th>\n",
              "      <th>Score3</th>\n",
              "      <th>Score4</th>\n",
              "      <th>Score5</th>\n",
              "      <th>Score6</th>\n",
              "    </tr>\n",
              "  </thead>\n",
              "  <tbody>\n",
              "    <tr>\n",
              "      <th>A</th>\n",
              "      <td>-0.455983</td>\n",
              "      <td>0.508655</td>\n",
              "      <td>-0.651779</td>\n",
              "      <td>0.354870</td>\n",
              "      <td>1.561775</td>\n",
              "      <td>0.052673</td>\n",
              "    </tr>\n",
              "    <tr>\n",
              "      <th>B</th>\n",
              "      <td>-0.846840</td>\n",
              "      <td>-0.993700</td>\n",
              "      <td>0.227699</td>\n",
              "      <td>1.300773</td>\n",
              "      <td>-0.011622</td>\n",
              "      <td>-1.840540</td>\n",
              "    </tr>\n",
              "    <tr>\n",
              "      <th>C</th>\n",
              "      <td>0.043319</td>\n",
              "      <td>0.628590</td>\n",
              "      <td>0.729804</td>\n",
              "      <td>-0.349284</td>\n",
              "      <td>-1.038845</td>\n",
              "      <td>0.671910</td>\n",
              "    </tr>\n",
              "    <tr>\n",
              "      <th>D</th>\n",
              "      <td>-0.261615</td>\n",
              "      <td>-0.455839</td>\n",
              "      <td>1.709482</td>\n",
              "      <td>-0.267408</td>\n",
              "      <td>-1.216441</td>\n",
              "      <td>-0.717454</td>\n",
              "    </tr>\n",
              "    <tr>\n",
              "      <th>E</th>\n",
              "      <td>0.222670</td>\n",
              "      <td>-0.104881</td>\n",
              "      <td>-0.619016</td>\n",
              "      <td>0.391157</td>\n",
              "      <td>1.754480</td>\n",
              "      <td>0.117789</td>\n",
              "    </tr>\n",
              "    <tr>\n",
              "      <th>F</th>\n",
              "      <td>0.070627</td>\n",
              "      <td>0.892084</td>\n",
              "      <td>-1.839866</td>\n",
              "      <td>1.343564</td>\n",
              "      <td>-0.000818</td>\n",
              "      <td>0.962711</td>\n",
              "    </tr>\n",
              "    <tr>\n",
              "      <th>G</th>\n",
              "      <td>-0.707708</td>\n",
              "      <td>-0.008452</td>\n",
              "      <td>0.760333</td>\n",
              "      <td>-0.799178</td>\n",
              "      <td>-0.306439</td>\n",
              "      <td>-0.716160</td>\n",
              "    </tr>\n",
              "    <tr>\n",
              "      <th>H</th>\n",
              "      <td>0.390598</td>\n",
              "      <td>-0.119509</td>\n",
              "      <td>-0.500464</td>\n",
              "      <td>1.775979</td>\n",
              "      <td>1.217420</td>\n",
              "      <td>0.271089</td>\n",
              "    </tr>\n",
              "    <tr>\n",
              "      <th>I</th>\n",
              "      <td>1.890886</td>\n",
              "      <td>-0.794051</td>\n",
              "      <td>-0.827437</td>\n",
              "      <td>-0.138065</td>\n",
              "      <td>-0.451077</td>\n",
              "      <td>1.096835</td>\n",
              "    </tr>\n",
              "    <tr>\n",
              "      <th>J</th>\n",
              "      <td>-1.400308</td>\n",
              "      <td>0.471286</td>\n",
              "      <td>-1.632707</td>\n",
              "      <td>-0.621886</td>\n",
              "      <td>-0.058172</td>\n",
              "      <td>-0.929022</td>\n",
              "    </tr>\n",
              "  </tbody>\n",
              "</table>\n",
              "</div>"
            ],
            "text/plain": [
              "     Score1    Score2    Score3    Score4    Score5    Score6\n",
              "A -0.455983  0.508655 -0.651779  0.354870  1.561775  0.052673\n",
              "B -0.846840 -0.993700  0.227699  1.300773 -0.011622 -1.840540\n",
              "C  0.043319  0.628590  0.729804 -0.349284 -1.038845  0.671910\n",
              "D -0.261615 -0.455839  1.709482 -0.267408 -1.216441 -0.717454\n",
              "E  0.222670 -0.104881 -0.619016  0.391157  1.754480  0.117789\n",
              "F  0.070627  0.892084 -1.839866  1.343564 -0.000818  0.962711\n",
              "G -0.707708 -0.008452  0.760333 -0.799178 -0.306439 -0.716160\n",
              "H  0.390598 -0.119509 -0.500464  1.775979  1.217420  0.271089\n",
              "I  1.890886 -0.794051 -0.827437 -0.138065 -0.451077  1.096835\n",
              "J -1.400308  0.471286 -1.632707 -0.621886 -0.058172 -0.929022"
            ]
          },
          "metadata": {
            "tags": []
          },
          "execution_count": 19
        }
      ]
    },
    {
      "cell_type": "code",
      "metadata": {
        "id": "8iWHrOHP8_tW"
      },
      "source": [
        "df.drop('Score6', axis=1, inplace=True)"
      ],
      "execution_count": 21,
      "outputs": []
    },
    {
      "cell_type": "code",
      "metadata": {
        "id": "xzLjzjTv9JNb",
        "outputId": "a2ebd9d1-7fae-4597-ff8d-d6837a48ef24",
        "colab": {
          "base_uri": "https://localhost:8080/",
          "height": 359
        }
      },
      "source": [
        "df"
      ],
      "execution_count": 22,
      "outputs": [
        {
          "output_type": "execute_result",
          "data": {
            "text/html": [
              "<div>\n",
              "<style scoped>\n",
              "    .dataframe tbody tr th:only-of-type {\n",
              "        vertical-align: middle;\n",
              "    }\n",
              "\n",
              "    .dataframe tbody tr th {\n",
              "        vertical-align: top;\n",
              "    }\n",
              "\n",
              "    .dataframe thead th {\n",
              "        text-align: right;\n",
              "    }\n",
              "</style>\n",
              "<table border=\"1\" class=\"dataframe\">\n",
              "  <thead>\n",
              "    <tr style=\"text-align: right;\">\n",
              "      <th></th>\n",
              "      <th>Score1</th>\n",
              "      <th>Score2</th>\n",
              "      <th>Score3</th>\n",
              "      <th>Score4</th>\n",
              "      <th>Score5</th>\n",
              "    </tr>\n",
              "  </thead>\n",
              "  <tbody>\n",
              "    <tr>\n",
              "      <th>A</th>\n",
              "      <td>-0.455983</td>\n",
              "      <td>0.508655</td>\n",
              "      <td>-0.651779</td>\n",
              "      <td>0.354870</td>\n",
              "      <td>1.561775</td>\n",
              "    </tr>\n",
              "    <tr>\n",
              "      <th>B</th>\n",
              "      <td>-0.846840</td>\n",
              "      <td>-0.993700</td>\n",
              "      <td>0.227699</td>\n",
              "      <td>1.300773</td>\n",
              "      <td>-0.011622</td>\n",
              "    </tr>\n",
              "    <tr>\n",
              "      <th>C</th>\n",
              "      <td>0.043319</td>\n",
              "      <td>0.628590</td>\n",
              "      <td>0.729804</td>\n",
              "      <td>-0.349284</td>\n",
              "      <td>-1.038845</td>\n",
              "    </tr>\n",
              "    <tr>\n",
              "      <th>D</th>\n",
              "      <td>-0.261615</td>\n",
              "      <td>-0.455839</td>\n",
              "      <td>1.709482</td>\n",
              "      <td>-0.267408</td>\n",
              "      <td>-1.216441</td>\n",
              "    </tr>\n",
              "    <tr>\n",
              "      <th>E</th>\n",
              "      <td>0.222670</td>\n",
              "      <td>-0.104881</td>\n",
              "      <td>-0.619016</td>\n",
              "      <td>0.391157</td>\n",
              "      <td>1.754480</td>\n",
              "    </tr>\n",
              "    <tr>\n",
              "      <th>F</th>\n",
              "      <td>0.070627</td>\n",
              "      <td>0.892084</td>\n",
              "      <td>-1.839866</td>\n",
              "      <td>1.343564</td>\n",
              "      <td>-0.000818</td>\n",
              "    </tr>\n",
              "    <tr>\n",
              "      <th>G</th>\n",
              "      <td>-0.707708</td>\n",
              "      <td>-0.008452</td>\n",
              "      <td>0.760333</td>\n",
              "      <td>-0.799178</td>\n",
              "      <td>-0.306439</td>\n",
              "    </tr>\n",
              "    <tr>\n",
              "      <th>H</th>\n",
              "      <td>0.390598</td>\n",
              "      <td>-0.119509</td>\n",
              "      <td>-0.500464</td>\n",
              "      <td>1.775979</td>\n",
              "      <td>1.217420</td>\n",
              "    </tr>\n",
              "    <tr>\n",
              "      <th>I</th>\n",
              "      <td>1.890886</td>\n",
              "      <td>-0.794051</td>\n",
              "      <td>-0.827437</td>\n",
              "      <td>-0.138065</td>\n",
              "      <td>-0.451077</td>\n",
              "    </tr>\n",
              "    <tr>\n",
              "      <th>J</th>\n",
              "      <td>-1.400308</td>\n",
              "      <td>0.471286</td>\n",
              "      <td>-1.632707</td>\n",
              "      <td>-0.621886</td>\n",
              "      <td>-0.058172</td>\n",
              "    </tr>\n",
              "  </tbody>\n",
              "</table>\n",
              "</div>"
            ],
            "text/plain": [
              "     Score1    Score2    Score3    Score4    Score5\n",
              "A -0.455983  0.508655 -0.651779  0.354870  1.561775\n",
              "B -0.846840 -0.993700  0.227699  1.300773 -0.011622\n",
              "C  0.043319  0.628590  0.729804 -0.349284 -1.038845\n",
              "D -0.261615 -0.455839  1.709482 -0.267408 -1.216441\n",
              "E  0.222670 -0.104881 -0.619016  0.391157  1.754480\n",
              "F  0.070627  0.892084 -1.839866  1.343564 -0.000818\n",
              "G -0.707708 -0.008452  0.760333 -0.799178 -0.306439\n",
              "H  0.390598 -0.119509 -0.500464  1.775979  1.217420\n",
              "I  1.890886 -0.794051 -0.827437 -0.138065 -0.451077\n",
              "J -1.400308  0.471286 -1.632707 -0.621886 -0.058172"
            ]
          },
          "metadata": {
            "tags": []
          },
          "execution_count": 22
        }
      ]
    },
    {
      "cell_type": "code",
      "metadata": {
        "id": "mZrrExD69Qsk",
        "outputId": "8aa3c575-ed08-4358-805e-0d2fb656cb38",
        "colab": {
          "base_uri": "https://localhost:8080/",
          "height": 328
        }
      },
      "source": [
        "df.drop('A', axis=0)"
      ],
      "execution_count": 24,
      "outputs": [
        {
          "output_type": "execute_result",
          "data": {
            "text/html": [
              "<div>\n",
              "<style scoped>\n",
              "    .dataframe tbody tr th:only-of-type {\n",
              "        vertical-align: middle;\n",
              "    }\n",
              "\n",
              "    .dataframe tbody tr th {\n",
              "        vertical-align: top;\n",
              "    }\n",
              "\n",
              "    .dataframe thead th {\n",
              "        text-align: right;\n",
              "    }\n",
              "</style>\n",
              "<table border=\"1\" class=\"dataframe\">\n",
              "  <thead>\n",
              "    <tr style=\"text-align: right;\">\n",
              "      <th></th>\n",
              "      <th>Score1</th>\n",
              "      <th>Score2</th>\n",
              "      <th>Score3</th>\n",
              "      <th>Score4</th>\n",
              "      <th>Score5</th>\n",
              "    </tr>\n",
              "  </thead>\n",
              "  <tbody>\n",
              "    <tr>\n",
              "      <th>B</th>\n",
              "      <td>-0.846840</td>\n",
              "      <td>-0.993700</td>\n",
              "      <td>0.227699</td>\n",
              "      <td>1.300773</td>\n",
              "      <td>-0.011622</td>\n",
              "    </tr>\n",
              "    <tr>\n",
              "      <th>C</th>\n",
              "      <td>0.043319</td>\n",
              "      <td>0.628590</td>\n",
              "      <td>0.729804</td>\n",
              "      <td>-0.349284</td>\n",
              "      <td>-1.038845</td>\n",
              "    </tr>\n",
              "    <tr>\n",
              "      <th>D</th>\n",
              "      <td>-0.261615</td>\n",
              "      <td>-0.455839</td>\n",
              "      <td>1.709482</td>\n",
              "      <td>-0.267408</td>\n",
              "      <td>-1.216441</td>\n",
              "    </tr>\n",
              "    <tr>\n",
              "      <th>E</th>\n",
              "      <td>0.222670</td>\n",
              "      <td>-0.104881</td>\n",
              "      <td>-0.619016</td>\n",
              "      <td>0.391157</td>\n",
              "      <td>1.754480</td>\n",
              "    </tr>\n",
              "    <tr>\n",
              "      <th>F</th>\n",
              "      <td>0.070627</td>\n",
              "      <td>0.892084</td>\n",
              "      <td>-1.839866</td>\n",
              "      <td>1.343564</td>\n",
              "      <td>-0.000818</td>\n",
              "    </tr>\n",
              "    <tr>\n",
              "      <th>G</th>\n",
              "      <td>-0.707708</td>\n",
              "      <td>-0.008452</td>\n",
              "      <td>0.760333</td>\n",
              "      <td>-0.799178</td>\n",
              "      <td>-0.306439</td>\n",
              "    </tr>\n",
              "    <tr>\n",
              "      <th>H</th>\n",
              "      <td>0.390598</td>\n",
              "      <td>-0.119509</td>\n",
              "      <td>-0.500464</td>\n",
              "      <td>1.775979</td>\n",
              "      <td>1.217420</td>\n",
              "    </tr>\n",
              "    <tr>\n",
              "      <th>I</th>\n",
              "      <td>1.890886</td>\n",
              "      <td>-0.794051</td>\n",
              "      <td>-0.827437</td>\n",
              "      <td>-0.138065</td>\n",
              "      <td>-0.451077</td>\n",
              "    </tr>\n",
              "    <tr>\n",
              "      <th>J</th>\n",
              "      <td>-1.400308</td>\n",
              "      <td>0.471286</td>\n",
              "      <td>-1.632707</td>\n",
              "      <td>-0.621886</td>\n",
              "      <td>-0.058172</td>\n",
              "    </tr>\n",
              "  </tbody>\n",
              "</table>\n",
              "</div>"
            ],
            "text/plain": [
              "     Score1    Score2    Score3    Score4    Score5\n",
              "B -0.846840 -0.993700  0.227699  1.300773 -0.011622\n",
              "C  0.043319  0.628590  0.729804 -0.349284 -1.038845\n",
              "D -0.261615 -0.455839  1.709482 -0.267408 -1.216441\n",
              "E  0.222670 -0.104881 -0.619016  0.391157  1.754480\n",
              "F  0.070627  0.892084 -1.839866  1.343564 -0.000818\n",
              "G -0.707708 -0.008452  0.760333 -0.799178 -0.306439\n",
              "H  0.390598 -0.119509 -0.500464  1.775979  1.217420\n",
              "I  1.890886 -0.794051 -0.827437 -0.138065 -0.451077\n",
              "J -1.400308  0.471286 -1.632707 -0.621886 -0.058172"
            ]
          },
          "metadata": {
            "tags": []
          },
          "execution_count": 24
        }
      ]
    },
    {
      "cell_type": "code",
      "metadata": {
        "id": "OVWp_vB59V-B",
        "outputId": "a03fd3c8-74ca-4333-9aa9-5ebd8844aa05",
        "colab": {
          "base_uri": "https://localhost:8080/",
          "height": 359
        }
      },
      "source": [
        "df"
      ],
      "execution_count": 25,
      "outputs": [
        {
          "output_type": "execute_result",
          "data": {
            "text/html": [
              "<div>\n",
              "<style scoped>\n",
              "    .dataframe tbody tr th:only-of-type {\n",
              "        vertical-align: middle;\n",
              "    }\n",
              "\n",
              "    .dataframe tbody tr th {\n",
              "        vertical-align: top;\n",
              "    }\n",
              "\n",
              "    .dataframe thead th {\n",
              "        text-align: right;\n",
              "    }\n",
              "</style>\n",
              "<table border=\"1\" class=\"dataframe\">\n",
              "  <thead>\n",
              "    <tr style=\"text-align: right;\">\n",
              "      <th></th>\n",
              "      <th>Score1</th>\n",
              "      <th>Score2</th>\n",
              "      <th>Score3</th>\n",
              "      <th>Score4</th>\n",
              "      <th>Score5</th>\n",
              "    </tr>\n",
              "  </thead>\n",
              "  <tbody>\n",
              "    <tr>\n",
              "      <th>A</th>\n",
              "      <td>-0.455983</td>\n",
              "      <td>0.508655</td>\n",
              "      <td>-0.651779</td>\n",
              "      <td>0.354870</td>\n",
              "      <td>1.561775</td>\n",
              "    </tr>\n",
              "    <tr>\n",
              "      <th>B</th>\n",
              "      <td>-0.846840</td>\n",
              "      <td>-0.993700</td>\n",
              "      <td>0.227699</td>\n",
              "      <td>1.300773</td>\n",
              "      <td>-0.011622</td>\n",
              "    </tr>\n",
              "    <tr>\n",
              "      <th>C</th>\n",
              "      <td>0.043319</td>\n",
              "      <td>0.628590</td>\n",
              "      <td>0.729804</td>\n",
              "      <td>-0.349284</td>\n",
              "      <td>-1.038845</td>\n",
              "    </tr>\n",
              "    <tr>\n",
              "      <th>D</th>\n",
              "      <td>-0.261615</td>\n",
              "      <td>-0.455839</td>\n",
              "      <td>1.709482</td>\n",
              "      <td>-0.267408</td>\n",
              "      <td>-1.216441</td>\n",
              "    </tr>\n",
              "    <tr>\n",
              "      <th>E</th>\n",
              "      <td>0.222670</td>\n",
              "      <td>-0.104881</td>\n",
              "      <td>-0.619016</td>\n",
              "      <td>0.391157</td>\n",
              "      <td>1.754480</td>\n",
              "    </tr>\n",
              "    <tr>\n",
              "      <th>F</th>\n",
              "      <td>0.070627</td>\n",
              "      <td>0.892084</td>\n",
              "      <td>-1.839866</td>\n",
              "      <td>1.343564</td>\n",
              "      <td>-0.000818</td>\n",
              "    </tr>\n",
              "    <tr>\n",
              "      <th>G</th>\n",
              "      <td>-0.707708</td>\n",
              "      <td>-0.008452</td>\n",
              "      <td>0.760333</td>\n",
              "      <td>-0.799178</td>\n",
              "      <td>-0.306439</td>\n",
              "    </tr>\n",
              "    <tr>\n",
              "      <th>H</th>\n",
              "      <td>0.390598</td>\n",
              "      <td>-0.119509</td>\n",
              "      <td>-0.500464</td>\n",
              "      <td>1.775979</td>\n",
              "      <td>1.217420</td>\n",
              "    </tr>\n",
              "    <tr>\n",
              "      <th>I</th>\n",
              "      <td>1.890886</td>\n",
              "      <td>-0.794051</td>\n",
              "      <td>-0.827437</td>\n",
              "      <td>-0.138065</td>\n",
              "      <td>-0.451077</td>\n",
              "    </tr>\n",
              "    <tr>\n",
              "      <th>J</th>\n",
              "      <td>-1.400308</td>\n",
              "      <td>0.471286</td>\n",
              "      <td>-1.632707</td>\n",
              "      <td>-0.621886</td>\n",
              "      <td>-0.058172</td>\n",
              "    </tr>\n",
              "  </tbody>\n",
              "</table>\n",
              "</div>"
            ],
            "text/plain": [
              "     Score1    Score2    Score3    Score4    Score5\n",
              "A -0.455983  0.508655 -0.651779  0.354870  1.561775\n",
              "B -0.846840 -0.993700  0.227699  1.300773 -0.011622\n",
              "C  0.043319  0.628590  0.729804 -0.349284 -1.038845\n",
              "D -0.261615 -0.455839  1.709482 -0.267408 -1.216441\n",
              "E  0.222670 -0.104881 -0.619016  0.391157  1.754480\n",
              "F  0.070627  0.892084 -1.839866  1.343564 -0.000818\n",
              "G -0.707708 -0.008452  0.760333 -0.799178 -0.306439\n",
              "H  0.390598 -0.119509 -0.500464  1.775979  1.217420\n",
              "I  1.890886 -0.794051 -0.827437 -0.138065 -0.451077\n",
              "J -1.400308  0.471286 -1.632707 -0.621886 -0.058172"
            ]
          },
          "metadata": {
            "tags": []
          },
          "execution_count": 25
        }
      ]
    },
    {
      "cell_type": "code",
      "metadata": {
        "id": "cTeWsBuH9dtB",
        "outputId": "33cc5798-2d9e-4ec1-bb92-bbeb532b8cd0",
        "colab": {
          "base_uri": "https://localhost:8080/"
        }
      },
      "source": [
        "df.loc['A']"
      ],
      "execution_count": 26,
      "outputs": [
        {
          "output_type": "execute_result",
          "data": {
            "text/plain": [
              "Score1   -0.455983\n",
              "Score2    0.508655\n",
              "Score3   -0.651779\n",
              "Score4    0.354870\n",
              "Score5    1.561775\n",
              "Name: A, dtype: float64"
            ]
          },
          "metadata": {
            "tags": []
          },
          "execution_count": 26
        }
      ]
    },
    {
      "cell_type": "code",
      "metadata": {
        "id": "wDnYAJL69h8x",
        "outputId": "e71eaf1a-a605-45ba-ca54-384f6eebcd14",
        "colab": {
          "base_uri": "https://localhost:8080/"
        }
      },
      "source": [
        "df.iloc[0]"
      ],
      "execution_count": 27,
      "outputs": [
        {
          "output_type": "execute_result",
          "data": {
            "text/plain": [
              "Score1   -0.455983\n",
              "Score2    0.508655\n",
              "Score3   -0.651779\n",
              "Score4    0.354870\n",
              "Score5    1.561775\n",
              "Name: A, dtype: float64"
            ]
          },
          "metadata": {
            "tags": []
          },
          "execution_count": 27
        }
      ]
    },
    {
      "cell_type": "code",
      "metadata": {
        "id": "CWdJmtAE9lM3",
        "outputId": "3bb2274b-eaa6-4444-b31e-1bf4b33ddcf2",
        "colab": {
          "base_uri": "https://localhost:8080/",
          "height": 111
        }
      },
      "source": [
        "df.loc[['A','B'], ['Score1','Score2']]"
      ],
      "execution_count": 28,
      "outputs": [
        {
          "output_type": "execute_result",
          "data": {
            "text/html": [
              "<div>\n",
              "<style scoped>\n",
              "    .dataframe tbody tr th:only-of-type {\n",
              "        vertical-align: middle;\n",
              "    }\n",
              "\n",
              "    .dataframe tbody tr th {\n",
              "        vertical-align: top;\n",
              "    }\n",
              "\n",
              "    .dataframe thead th {\n",
              "        text-align: right;\n",
              "    }\n",
              "</style>\n",
              "<table border=\"1\" class=\"dataframe\">\n",
              "  <thead>\n",
              "    <tr style=\"text-align: right;\">\n",
              "      <th></th>\n",
              "      <th>Score1</th>\n",
              "      <th>Score2</th>\n",
              "    </tr>\n",
              "  </thead>\n",
              "  <tbody>\n",
              "    <tr>\n",
              "      <th>A</th>\n",
              "      <td>-0.455983</td>\n",
              "      <td>0.508655</td>\n",
              "    </tr>\n",
              "    <tr>\n",
              "      <th>B</th>\n",
              "      <td>-0.846840</td>\n",
              "      <td>-0.993700</td>\n",
              "    </tr>\n",
              "  </tbody>\n",
              "</table>\n",
              "</div>"
            ],
            "text/plain": [
              "     Score1    Score2\n",
              "A -0.455983  0.508655\n",
              "B -0.846840 -0.993700"
            ]
          },
          "metadata": {
            "tags": []
          },
          "execution_count": 28
        }
      ]
    },
    {
      "cell_type": "code",
      "metadata": {
        "id": "GdFKWyY39w5l",
        "outputId": "1e0ec7f6-1240-4d27-f94e-8c17d061d52f",
        "colab": {
          "base_uri": "https://localhost:8080/",
          "height": 359
        }
      },
      "source": [
        "df>0.5"
      ],
      "execution_count": 29,
      "outputs": [
        {
          "output_type": "execute_result",
          "data": {
            "text/html": [
              "<div>\n",
              "<style scoped>\n",
              "    .dataframe tbody tr th:only-of-type {\n",
              "        vertical-align: middle;\n",
              "    }\n",
              "\n",
              "    .dataframe tbody tr th {\n",
              "        vertical-align: top;\n",
              "    }\n",
              "\n",
              "    .dataframe thead th {\n",
              "        text-align: right;\n",
              "    }\n",
              "</style>\n",
              "<table border=\"1\" class=\"dataframe\">\n",
              "  <thead>\n",
              "    <tr style=\"text-align: right;\">\n",
              "      <th></th>\n",
              "      <th>Score1</th>\n",
              "      <th>Score2</th>\n",
              "      <th>Score3</th>\n",
              "      <th>Score4</th>\n",
              "      <th>Score5</th>\n",
              "    </tr>\n",
              "  </thead>\n",
              "  <tbody>\n",
              "    <tr>\n",
              "      <th>A</th>\n",
              "      <td>False</td>\n",
              "      <td>True</td>\n",
              "      <td>False</td>\n",
              "      <td>False</td>\n",
              "      <td>True</td>\n",
              "    </tr>\n",
              "    <tr>\n",
              "      <th>B</th>\n",
              "      <td>False</td>\n",
              "      <td>False</td>\n",
              "      <td>False</td>\n",
              "      <td>True</td>\n",
              "      <td>False</td>\n",
              "    </tr>\n",
              "    <tr>\n",
              "      <th>C</th>\n",
              "      <td>False</td>\n",
              "      <td>True</td>\n",
              "      <td>True</td>\n",
              "      <td>False</td>\n",
              "      <td>False</td>\n",
              "    </tr>\n",
              "    <tr>\n",
              "      <th>D</th>\n",
              "      <td>False</td>\n",
              "      <td>False</td>\n",
              "      <td>True</td>\n",
              "      <td>False</td>\n",
              "      <td>False</td>\n",
              "    </tr>\n",
              "    <tr>\n",
              "      <th>E</th>\n",
              "      <td>False</td>\n",
              "      <td>False</td>\n",
              "      <td>False</td>\n",
              "      <td>False</td>\n",
              "      <td>True</td>\n",
              "    </tr>\n",
              "    <tr>\n",
              "      <th>F</th>\n",
              "      <td>False</td>\n",
              "      <td>True</td>\n",
              "      <td>False</td>\n",
              "      <td>True</td>\n",
              "      <td>False</td>\n",
              "    </tr>\n",
              "    <tr>\n",
              "      <th>G</th>\n",
              "      <td>False</td>\n",
              "      <td>False</td>\n",
              "      <td>True</td>\n",
              "      <td>False</td>\n",
              "      <td>False</td>\n",
              "    </tr>\n",
              "    <tr>\n",
              "      <th>H</th>\n",
              "      <td>False</td>\n",
              "      <td>False</td>\n",
              "      <td>False</td>\n",
              "      <td>True</td>\n",
              "      <td>True</td>\n",
              "    </tr>\n",
              "    <tr>\n",
              "      <th>I</th>\n",
              "      <td>True</td>\n",
              "      <td>False</td>\n",
              "      <td>False</td>\n",
              "      <td>False</td>\n",
              "      <td>False</td>\n",
              "    </tr>\n",
              "    <tr>\n",
              "      <th>J</th>\n",
              "      <td>False</td>\n",
              "      <td>False</td>\n",
              "      <td>False</td>\n",
              "      <td>False</td>\n",
              "      <td>False</td>\n",
              "    </tr>\n",
              "  </tbody>\n",
              "</table>\n",
              "</div>"
            ],
            "text/plain": [
              "   Score1  Score2  Score3  Score4  Score5\n",
              "A   False    True   False   False    True\n",
              "B   False   False   False    True   False\n",
              "C   False    True    True   False   False\n",
              "D   False   False    True   False   False\n",
              "E   False   False   False   False    True\n",
              "F   False    True   False    True   False\n",
              "G   False   False    True   False   False\n",
              "H   False   False   False    True    True\n",
              "I    True   False   False   False   False\n",
              "J   False   False   False   False   False"
            ]
          },
          "metadata": {
            "tags": []
          },
          "execution_count": 29
        }
      ]
    },
    {
      "cell_type": "code",
      "metadata": {
        "id": "oGOPmtFH90qy",
        "outputId": "3f001a3c-c435-4fa5-ea3c-6a0385d44d5a",
        "colab": {
          "base_uri": "https://localhost:8080/",
          "height": 359
        }
      },
      "source": [
        "df[df>0.5]"
      ],
      "execution_count": 30,
      "outputs": [
        {
          "output_type": "execute_result",
          "data": {
            "text/html": [
              "<div>\n",
              "<style scoped>\n",
              "    .dataframe tbody tr th:only-of-type {\n",
              "        vertical-align: middle;\n",
              "    }\n",
              "\n",
              "    .dataframe tbody tr th {\n",
              "        vertical-align: top;\n",
              "    }\n",
              "\n",
              "    .dataframe thead th {\n",
              "        text-align: right;\n",
              "    }\n",
              "</style>\n",
              "<table border=\"1\" class=\"dataframe\">\n",
              "  <thead>\n",
              "    <tr style=\"text-align: right;\">\n",
              "      <th></th>\n",
              "      <th>Score1</th>\n",
              "      <th>Score2</th>\n",
              "      <th>Score3</th>\n",
              "      <th>Score4</th>\n",
              "      <th>Score5</th>\n",
              "    </tr>\n",
              "  </thead>\n",
              "  <tbody>\n",
              "    <tr>\n",
              "      <th>A</th>\n",
              "      <td>NaN</td>\n",
              "      <td>0.508655</td>\n",
              "      <td>NaN</td>\n",
              "      <td>NaN</td>\n",
              "      <td>1.561775</td>\n",
              "    </tr>\n",
              "    <tr>\n",
              "      <th>B</th>\n",
              "      <td>NaN</td>\n",
              "      <td>NaN</td>\n",
              "      <td>NaN</td>\n",
              "      <td>1.300773</td>\n",
              "      <td>NaN</td>\n",
              "    </tr>\n",
              "    <tr>\n",
              "      <th>C</th>\n",
              "      <td>NaN</td>\n",
              "      <td>0.628590</td>\n",
              "      <td>0.729804</td>\n",
              "      <td>NaN</td>\n",
              "      <td>NaN</td>\n",
              "    </tr>\n",
              "    <tr>\n",
              "      <th>D</th>\n",
              "      <td>NaN</td>\n",
              "      <td>NaN</td>\n",
              "      <td>1.709482</td>\n",
              "      <td>NaN</td>\n",
              "      <td>NaN</td>\n",
              "    </tr>\n",
              "    <tr>\n",
              "      <th>E</th>\n",
              "      <td>NaN</td>\n",
              "      <td>NaN</td>\n",
              "      <td>NaN</td>\n",
              "      <td>NaN</td>\n",
              "      <td>1.754480</td>\n",
              "    </tr>\n",
              "    <tr>\n",
              "      <th>F</th>\n",
              "      <td>NaN</td>\n",
              "      <td>0.892084</td>\n",
              "      <td>NaN</td>\n",
              "      <td>1.343564</td>\n",
              "      <td>NaN</td>\n",
              "    </tr>\n",
              "    <tr>\n",
              "      <th>G</th>\n",
              "      <td>NaN</td>\n",
              "      <td>NaN</td>\n",
              "      <td>0.760333</td>\n",
              "      <td>NaN</td>\n",
              "      <td>NaN</td>\n",
              "    </tr>\n",
              "    <tr>\n",
              "      <th>H</th>\n",
              "      <td>NaN</td>\n",
              "      <td>NaN</td>\n",
              "      <td>NaN</td>\n",
              "      <td>1.775979</td>\n",
              "      <td>1.217420</td>\n",
              "    </tr>\n",
              "    <tr>\n",
              "      <th>I</th>\n",
              "      <td>1.890886</td>\n",
              "      <td>NaN</td>\n",
              "      <td>NaN</td>\n",
              "      <td>NaN</td>\n",
              "      <td>NaN</td>\n",
              "    </tr>\n",
              "    <tr>\n",
              "      <th>J</th>\n",
              "      <td>NaN</td>\n",
              "      <td>NaN</td>\n",
              "      <td>NaN</td>\n",
              "      <td>NaN</td>\n",
              "      <td>NaN</td>\n",
              "    </tr>\n",
              "  </tbody>\n",
              "</table>\n",
              "</div>"
            ],
            "text/plain": [
              "     Score1    Score2    Score3    Score4    Score5\n",
              "A       NaN  0.508655       NaN       NaN  1.561775\n",
              "B       NaN       NaN       NaN  1.300773       NaN\n",
              "C       NaN  0.628590  0.729804       NaN       NaN\n",
              "D       NaN       NaN  1.709482       NaN       NaN\n",
              "E       NaN       NaN       NaN       NaN  1.754480\n",
              "F       NaN  0.892084       NaN  1.343564       NaN\n",
              "G       NaN       NaN  0.760333       NaN       NaN\n",
              "H       NaN       NaN       NaN  1.775979  1.217420\n",
              "I  1.890886       NaN       NaN       NaN       NaN\n",
              "J       NaN       NaN       NaN       NaN       NaN"
            ]
          },
          "metadata": {
            "tags": []
          },
          "execution_count": 30
        }
      ]
    },
    {
      "cell_type": "code",
      "metadata": {
        "id": "6SfMK47q956v",
        "outputId": "0766a7c6-010c-4f64-a281-b724f03ed5f2",
        "colab": {
          "base_uri": "https://localhost:8080/",
          "height": 80
        }
      },
      "source": [
        "df[df['Score1']>0.5]"
      ],
      "execution_count": 31,
      "outputs": [
        {
          "output_type": "execute_result",
          "data": {
            "text/html": [
              "<div>\n",
              "<style scoped>\n",
              "    .dataframe tbody tr th:only-of-type {\n",
              "        vertical-align: middle;\n",
              "    }\n",
              "\n",
              "    .dataframe tbody tr th {\n",
              "        vertical-align: top;\n",
              "    }\n",
              "\n",
              "    .dataframe thead th {\n",
              "        text-align: right;\n",
              "    }\n",
              "</style>\n",
              "<table border=\"1\" class=\"dataframe\">\n",
              "  <thead>\n",
              "    <tr style=\"text-align: right;\">\n",
              "      <th></th>\n",
              "      <th>Score1</th>\n",
              "      <th>Score2</th>\n",
              "      <th>Score3</th>\n",
              "      <th>Score4</th>\n",
              "      <th>Score5</th>\n",
              "    </tr>\n",
              "  </thead>\n",
              "  <tbody>\n",
              "    <tr>\n",
              "      <th>I</th>\n",
              "      <td>1.890886</td>\n",
              "      <td>-0.794051</td>\n",
              "      <td>-0.827437</td>\n",
              "      <td>-0.138065</td>\n",
              "      <td>-0.451077</td>\n",
              "    </tr>\n",
              "  </tbody>\n",
              "</table>\n",
              "</div>"
            ],
            "text/plain": [
              "     Score1    Score2    Score3    Score4    Score5\n",
              "I  1.890886 -0.794051 -0.827437 -0.138065 -0.451077"
            ]
          },
          "metadata": {
            "tags": []
          },
          "execution_count": 31
        }
      ]
    },
    {
      "cell_type": "code",
      "metadata": {
        "id": "JELHgcCM-ArH",
        "outputId": "e19a6c6b-0d94-4b64-df74-5f63cf8ccde5",
        "colab": {
          "base_uri": "https://localhost:8080/",
          "height": 49
        }
      },
      "source": [
        "df[(df['Score1'] > 0.5) & (df['Score2'] > 0.5)]"
      ],
      "execution_count": 33,
      "outputs": [
        {
          "output_type": "execute_result",
          "data": {
            "text/html": [
              "<div>\n",
              "<style scoped>\n",
              "    .dataframe tbody tr th:only-of-type {\n",
              "        vertical-align: middle;\n",
              "    }\n",
              "\n",
              "    .dataframe tbody tr th {\n",
              "        vertical-align: top;\n",
              "    }\n",
              "\n",
              "    .dataframe thead th {\n",
              "        text-align: right;\n",
              "    }\n",
              "</style>\n",
              "<table border=\"1\" class=\"dataframe\">\n",
              "  <thead>\n",
              "    <tr style=\"text-align: right;\">\n",
              "      <th></th>\n",
              "      <th>Score1</th>\n",
              "      <th>Score2</th>\n",
              "      <th>Score3</th>\n",
              "      <th>Score4</th>\n",
              "      <th>Score5</th>\n",
              "    </tr>\n",
              "  </thead>\n",
              "  <tbody>\n",
              "  </tbody>\n",
              "</table>\n",
              "</div>"
            ],
            "text/plain": [
              "Empty DataFrame\n",
              "Columns: [Score1, Score2, Score3, Score4, Score5]\n",
              "Index: []"
            ]
          },
          "metadata": {
            "tags": []
          },
          "execution_count": 33
        }
      ]
    },
    {
      "cell_type": "code",
      "metadata": {
        "id": "M6Hg5mdD-av4",
        "outputId": "3cec80b2-111c-4246-df26-4a9def06e152",
        "colab": {
          "base_uri": "https://localhost:8080/",
          "height": 80
        }
      },
      "source": [
        "df[(df['Score1'] > 0.5) & (df['Score2'] < 0.5)]"
      ],
      "execution_count": 34,
      "outputs": [
        {
          "output_type": "execute_result",
          "data": {
            "text/html": [
              "<div>\n",
              "<style scoped>\n",
              "    .dataframe tbody tr th:only-of-type {\n",
              "        vertical-align: middle;\n",
              "    }\n",
              "\n",
              "    .dataframe tbody tr th {\n",
              "        vertical-align: top;\n",
              "    }\n",
              "\n",
              "    .dataframe thead th {\n",
              "        text-align: right;\n",
              "    }\n",
              "</style>\n",
              "<table border=\"1\" class=\"dataframe\">\n",
              "  <thead>\n",
              "    <tr style=\"text-align: right;\">\n",
              "      <th></th>\n",
              "      <th>Score1</th>\n",
              "      <th>Score2</th>\n",
              "      <th>Score3</th>\n",
              "      <th>Score4</th>\n",
              "      <th>Score5</th>\n",
              "    </tr>\n",
              "  </thead>\n",
              "  <tbody>\n",
              "    <tr>\n",
              "      <th>I</th>\n",
              "      <td>1.890886</td>\n",
              "      <td>-0.794051</td>\n",
              "      <td>-0.827437</td>\n",
              "      <td>-0.138065</td>\n",
              "      <td>-0.451077</td>\n",
              "    </tr>\n",
              "  </tbody>\n",
              "</table>\n",
              "</div>"
            ],
            "text/plain": [
              "     Score1    Score2    Score3    Score4    Score5\n",
              "I  1.890886 -0.794051 -0.827437 -0.138065 -0.451077"
            ]
          },
          "metadata": {
            "tags": []
          },
          "execution_count": 34
        }
      ]
    },
    {
      "cell_type": "code",
      "metadata": {
        "id": "8VWdA7S0-lDT",
        "outputId": "757f3424-3678-4ac2-e15a-fe19d69b546a",
        "colab": {
          "base_uri": "https://localhost:8080/",
          "height": 266
        }
      },
      "source": [
        "df[(df['Score1']>0.5) | (df['Score2']<0.5)]"
      ],
      "execution_count": 35,
      "outputs": [
        {
          "output_type": "execute_result",
          "data": {
            "text/html": [
              "<div>\n",
              "<style scoped>\n",
              "    .dataframe tbody tr th:only-of-type {\n",
              "        vertical-align: middle;\n",
              "    }\n",
              "\n",
              "    .dataframe tbody tr th {\n",
              "        vertical-align: top;\n",
              "    }\n",
              "\n",
              "    .dataframe thead th {\n",
              "        text-align: right;\n",
              "    }\n",
              "</style>\n",
              "<table border=\"1\" class=\"dataframe\">\n",
              "  <thead>\n",
              "    <tr style=\"text-align: right;\">\n",
              "      <th></th>\n",
              "      <th>Score1</th>\n",
              "      <th>Score2</th>\n",
              "      <th>Score3</th>\n",
              "      <th>Score4</th>\n",
              "      <th>Score5</th>\n",
              "    </tr>\n",
              "  </thead>\n",
              "  <tbody>\n",
              "    <tr>\n",
              "      <th>B</th>\n",
              "      <td>-0.846840</td>\n",
              "      <td>-0.993700</td>\n",
              "      <td>0.227699</td>\n",
              "      <td>1.300773</td>\n",
              "      <td>-0.011622</td>\n",
              "    </tr>\n",
              "    <tr>\n",
              "      <th>D</th>\n",
              "      <td>-0.261615</td>\n",
              "      <td>-0.455839</td>\n",
              "      <td>1.709482</td>\n",
              "      <td>-0.267408</td>\n",
              "      <td>-1.216441</td>\n",
              "    </tr>\n",
              "    <tr>\n",
              "      <th>E</th>\n",
              "      <td>0.222670</td>\n",
              "      <td>-0.104881</td>\n",
              "      <td>-0.619016</td>\n",
              "      <td>0.391157</td>\n",
              "      <td>1.754480</td>\n",
              "    </tr>\n",
              "    <tr>\n",
              "      <th>G</th>\n",
              "      <td>-0.707708</td>\n",
              "      <td>-0.008452</td>\n",
              "      <td>0.760333</td>\n",
              "      <td>-0.799178</td>\n",
              "      <td>-0.306439</td>\n",
              "    </tr>\n",
              "    <tr>\n",
              "      <th>H</th>\n",
              "      <td>0.390598</td>\n",
              "      <td>-0.119509</td>\n",
              "      <td>-0.500464</td>\n",
              "      <td>1.775979</td>\n",
              "      <td>1.217420</td>\n",
              "    </tr>\n",
              "    <tr>\n",
              "      <th>I</th>\n",
              "      <td>1.890886</td>\n",
              "      <td>-0.794051</td>\n",
              "      <td>-0.827437</td>\n",
              "      <td>-0.138065</td>\n",
              "      <td>-0.451077</td>\n",
              "    </tr>\n",
              "    <tr>\n",
              "      <th>J</th>\n",
              "      <td>-1.400308</td>\n",
              "      <td>0.471286</td>\n",
              "      <td>-1.632707</td>\n",
              "      <td>-0.621886</td>\n",
              "      <td>-0.058172</td>\n",
              "    </tr>\n",
              "  </tbody>\n",
              "</table>\n",
              "</div>"
            ],
            "text/plain": [
              "     Score1    Score2    Score3    Score4    Score5\n",
              "B -0.846840 -0.993700  0.227699  1.300773 -0.011622\n",
              "D -0.261615 -0.455839  1.709482 -0.267408 -1.216441\n",
              "E  0.222670 -0.104881 -0.619016  0.391157  1.754480\n",
              "G -0.707708 -0.008452  0.760333 -0.799178 -0.306439\n",
              "H  0.390598 -0.119509 -0.500464  1.775979  1.217420\n",
              "I  1.890886 -0.794051 -0.827437 -0.138065 -0.451077\n",
              "J -1.400308  0.471286 -1.632707 -0.621886 -0.058172"
            ]
          },
          "metadata": {
            "tags": []
          },
          "execution_count": 35
        }
      ]
    },
    {
      "cell_type": "code",
      "metadata": {
        "id": "Tio-0afh-wpt",
        "outputId": "e704ad65-b512-4975-c7b7-7d0027c0f022",
        "colab": {
          "base_uri": "https://localhost:8080/",
          "height": 266
        }
      },
      "source": [
        "df[(df['Score1']>0.5) | (df['Score2']<0.5)][['Score3', 'Score4']]"
      ],
      "execution_count": 37,
      "outputs": [
        {
          "output_type": "execute_result",
          "data": {
            "text/html": [
              "<div>\n",
              "<style scoped>\n",
              "    .dataframe tbody tr th:only-of-type {\n",
              "        vertical-align: middle;\n",
              "    }\n",
              "\n",
              "    .dataframe tbody tr th {\n",
              "        vertical-align: top;\n",
              "    }\n",
              "\n",
              "    .dataframe thead th {\n",
              "        text-align: right;\n",
              "    }\n",
              "</style>\n",
              "<table border=\"1\" class=\"dataframe\">\n",
              "  <thead>\n",
              "    <tr style=\"text-align: right;\">\n",
              "      <th></th>\n",
              "      <th>Score3</th>\n",
              "      <th>Score4</th>\n",
              "    </tr>\n",
              "  </thead>\n",
              "  <tbody>\n",
              "    <tr>\n",
              "      <th>B</th>\n",
              "      <td>0.227699</td>\n",
              "      <td>1.300773</td>\n",
              "    </tr>\n",
              "    <tr>\n",
              "      <th>D</th>\n",
              "      <td>1.709482</td>\n",
              "      <td>-0.267408</td>\n",
              "    </tr>\n",
              "    <tr>\n",
              "      <th>E</th>\n",
              "      <td>-0.619016</td>\n",
              "      <td>0.391157</td>\n",
              "    </tr>\n",
              "    <tr>\n",
              "      <th>G</th>\n",
              "      <td>0.760333</td>\n",
              "      <td>-0.799178</td>\n",
              "    </tr>\n",
              "    <tr>\n",
              "      <th>H</th>\n",
              "      <td>-0.500464</td>\n",
              "      <td>1.775979</td>\n",
              "    </tr>\n",
              "    <tr>\n",
              "      <th>I</th>\n",
              "      <td>-0.827437</td>\n",
              "      <td>-0.138065</td>\n",
              "    </tr>\n",
              "    <tr>\n",
              "      <th>J</th>\n",
              "      <td>-1.632707</td>\n",
              "      <td>-0.621886</td>\n",
              "    </tr>\n",
              "  </tbody>\n",
              "</table>\n",
              "</div>"
            ],
            "text/plain": [
              "     Score3    Score4\n",
              "B  0.227699  1.300773\n",
              "D  1.709482 -0.267408\n",
              "E -0.619016  0.391157\n",
              "G  0.760333 -0.799178\n",
              "H -0.500464  1.775979\n",
              "I -0.827437 -0.138065\n",
              "J -1.632707 -0.621886"
            ]
          },
          "metadata": {
            "tags": []
          },
          "execution_count": 37
        }
      ]
    },
    {
      "cell_type": "code",
      "metadata": {
        "id": "tqZJcwFF_JDC"
      },
      "source": [
        "#Missing Data"
      ],
      "execution_count": 38,
      "outputs": []
    },
    {
      "cell_type": "code",
      "metadata": {
        "id": "YQxVk17WBpbl"
      },
      "source": [
        "dataframe = pd.DataFrame({'Cricket':[1,2,np.nan,4,6,7,2,np.nan], 'BaseBall':[5,np.nan,np.nan,5,7,2,4,5],'Tennis':[1,2,3,4,5,6,7,8]})"
      ],
      "execution_count": 39,
      "outputs": []
    },
    {
      "cell_type": "code",
      "metadata": {
        "id": "eaZBuUXnCPIB",
        "outputId": "c5c42a7d-076e-4a56-c798-e585071c6758",
        "colab": {
          "base_uri": "https://localhost:8080/",
          "height": 297
        }
      },
      "source": [
        "dataframe"
      ],
      "execution_count": 40,
      "outputs": [
        {
          "output_type": "execute_result",
          "data": {
            "text/html": [
              "<div>\n",
              "<style scoped>\n",
              "    .dataframe tbody tr th:only-of-type {\n",
              "        vertical-align: middle;\n",
              "    }\n",
              "\n",
              "    .dataframe tbody tr th {\n",
              "        vertical-align: top;\n",
              "    }\n",
              "\n",
              "    .dataframe thead th {\n",
              "        text-align: right;\n",
              "    }\n",
              "</style>\n",
              "<table border=\"1\" class=\"dataframe\">\n",
              "  <thead>\n",
              "    <tr style=\"text-align: right;\">\n",
              "      <th></th>\n",
              "      <th>Cricket</th>\n",
              "      <th>BaseBall</th>\n",
              "      <th>Tennis</th>\n",
              "    </tr>\n",
              "  </thead>\n",
              "  <tbody>\n",
              "    <tr>\n",
              "      <th>0</th>\n",
              "      <td>1.0</td>\n",
              "      <td>5.0</td>\n",
              "      <td>1</td>\n",
              "    </tr>\n",
              "    <tr>\n",
              "      <th>1</th>\n",
              "      <td>2.0</td>\n",
              "      <td>NaN</td>\n",
              "      <td>2</td>\n",
              "    </tr>\n",
              "    <tr>\n",
              "      <th>2</th>\n",
              "      <td>NaN</td>\n",
              "      <td>NaN</td>\n",
              "      <td>3</td>\n",
              "    </tr>\n",
              "    <tr>\n",
              "      <th>3</th>\n",
              "      <td>4.0</td>\n",
              "      <td>5.0</td>\n",
              "      <td>4</td>\n",
              "    </tr>\n",
              "    <tr>\n",
              "      <th>4</th>\n",
              "      <td>6.0</td>\n",
              "      <td>7.0</td>\n",
              "      <td>5</td>\n",
              "    </tr>\n",
              "    <tr>\n",
              "      <th>5</th>\n",
              "      <td>7.0</td>\n",
              "      <td>2.0</td>\n",
              "      <td>6</td>\n",
              "    </tr>\n",
              "    <tr>\n",
              "      <th>6</th>\n",
              "      <td>2.0</td>\n",
              "      <td>4.0</td>\n",
              "      <td>7</td>\n",
              "    </tr>\n",
              "    <tr>\n",
              "      <th>7</th>\n",
              "      <td>NaN</td>\n",
              "      <td>5.0</td>\n",
              "      <td>8</td>\n",
              "    </tr>\n",
              "  </tbody>\n",
              "</table>\n",
              "</div>"
            ],
            "text/plain": [
              "   Cricket  BaseBall  Tennis\n",
              "0      1.0       5.0       1\n",
              "1      2.0       NaN       2\n",
              "2      NaN       NaN       3\n",
              "3      4.0       5.0       4\n",
              "4      6.0       7.0       5\n",
              "5      7.0       2.0       6\n",
              "6      2.0       4.0       7\n",
              "7      NaN       5.0       8"
            ]
          },
          "metadata": {
            "tags": []
          },
          "execution_count": 40
        }
      ]
    },
    {
      "cell_type": "code",
      "metadata": {
        "id": "1m6YGQweCQVD",
        "outputId": "f63dbe9f-7fc7-4a68-c22c-614d6171378f",
        "colab": {
          "base_uri": "https://localhost:8080/",
          "height": 204
        }
      },
      "source": [
        "dataframe.dropna()"
      ],
      "execution_count": 42,
      "outputs": [
        {
          "output_type": "execute_result",
          "data": {
            "text/html": [
              "<div>\n",
              "<style scoped>\n",
              "    .dataframe tbody tr th:only-of-type {\n",
              "        vertical-align: middle;\n",
              "    }\n",
              "\n",
              "    .dataframe tbody tr th {\n",
              "        vertical-align: top;\n",
              "    }\n",
              "\n",
              "    .dataframe thead th {\n",
              "        text-align: right;\n",
              "    }\n",
              "</style>\n",
              "<table border=\"1\" class=\"dataframe\">\n",
              "  <thead>\n",
              "    <tr style=\"text-align: right;\">\n",
              "      <th></th>\n",
              "      <th>Cricket</th>\n",
              "      <th>BaseBall</th>\n",
              "      <th>Tennis</th>\n",
              "    </tr>\n",
              "  </thead>\n",
              "  <tbody>\n",
              "    <tr>\n",
              "      <th>0</th>\n",
              "      <td>1.0</td>\n",
              "      <td>5.0</td>\n",
              "      <td>1</td>\n",
              "    </tr>\n",
              "    <tr>\n",
              "      <th>3</th>\n",
              "      <td>4.0</td>\n",
              "      <td>5.0</td>\n",
              "      <td>4</td>\n",
              "    </tr>\n",
              "    <tr>\n",
              "      <th>4</th>\n",
              "      <td>6.0</td>\n",
              "      <td>7.0</td>\n",
              "      <td>5</td>\n",
              "    </tr>\n",
              "    <tr>\n",
              "      <th>5</th>\n",
              "      <td>7.0</td>\n",
              "      <td>2.0</td>\n",
              "      <td>6</td>\n",
              "    </tr>\n",
              "    <tr>\n",
              "      <th>6</th>\n",
              "      <td>2.0</td>\n",
              "      <td>4.0</td>\n",
              "      <td>7</td>\n",
              "    </tr>\n",
              "  </tbody>\n",
              "</table>\n",
              "</div>"
            ],
            "text/plain": [
              "   Cricket  BaseBall  Tennis\n",
              "0      1.0       5.0       1\n",
              "3      4.0       5.0       4\n",
              "4      6.0       7.0       5\n",
              "5      7.0       2.0       6\n",
              "6      2.0       4.0       7"
            ]
          },
          "metadata": {
            "tags": []
          },
          "execution_count": 42
        }
      ]
    },
    {
      "cell_type": "code",
      "metadata": {
        "id": "N4Nr3tzFCfr0",
        "outputId": "25591e26-70ea-4f2f-a626-44e5e479e68b",
        "colab": {
          "base_uri": "https://localhost:8080/",
          "height": 297
        }
      },
      "source": [
        "dataframe.dropna(axis=1)"
      ],
      "execution_count": 44,
      "outputs": [
        {
          "output_type": "execute_result",
          "data": {
            "text/html": [
              "<div>\n",
              "<style scoped>\n",
              "    .dataframe tbody tr th:only-of-type {\n",
              "        vertical-align: middle;\n",
              "    }\n",
              "\n",
              "    .dataframe tbody tr th {\n",
              "        vertical-align: top;\n",
              "    }\n",
              "\n",
              "    .dataframe thead th {\n",
              "        text-align: right;\n",
              "    }\n",
              "</style>\n",
              "<table border=\"1\" class=\"dataframe\">\n",
              "  <thead>\n",
              "    <tr style=\"text-align: right;\">\n",
              "      <th></th>\n",
              "      <th>Tennis</th>\n",
              "    </tr>\n",
              "  </thead>\n",
              "  <tbody>\n",
              "    <tr>\n",
              "      <th>0</th>\n",
              "      <td>1</td>\n",
              "    </tr>\n",
              "    <tr>\n",
              "      <th>1</th>\n",
              "      <td>2</td>\n",
              "    </tr>\n",
              "    <tr>\n",
              "      <th>2</th>\n",
              "      <td>3</td>\n",
              "    </tr>\n",
              "    <tr>\n",
              "      <th>3</th>\n",
              "      <td>4</td>\n",
              "    </tr>\n",
              "    <tr>\n",
              "      <th>4</th>\n",
              "      <td>5</td>\n",
              "    </tr>\n",
              "    <tr>\n",
              "      <th>5</th>\n",
              "      <td>6</td>\n",
              "    </tr>\n",
              "    <tr>\n",
              "      <th>6</th>\n",
              "      <td>7</td>\n",
              "    </tr>\n",
              "    <tr>\n",
              "      <th>7</th>\n",
              "      <td>8</td>\n",
              "    </tr>\n",
              "  </tbody>\n",
              "</table>\n",
              "</div>"
            ],
            "text/plain": [
              "   Tennis\n",
              "0       1\n",
              "1       2\n",
              "2       3\n",
              "3       4\n",
              "4       5\n",
              "5       6\n",
              "6       7\n",
              "7       8"
            ]
          },
          "metadata": {
            "tags": []
          },
          "execution_count": 44
        }
      ]
    },
    {
      "cell_type": "code",
      "metadata": {
        "id": "pGMuna1kCsKZ",
        "outputId": "39f9d03a-67b2-4d3d-d735-41b1f267d50f",
        "colab": {
          "base_uri": "https://localhost:8080/",
          "height": 266
        }
      },
      "source": [
        "#Check for non nsn values in a row\n",
        "#Their should be atleast 2 non NAN values\n",
        "dataframe.dropna(thresh= 2)"
      ],
      "execution_count": 46,
      "outputs": [
        {
          "output_type": "execute_result",
          "data": {
            "text/html": [
              "<div>\n",
              "<style scoped>\n",
              "    .dataframe tbody tr th:only-of-type {\n",
              "        vertical-align: middle;\n",
              "    }\n",
              "\n",
              "    .dataframe tbody tr th {\n",
              "        vertical-align: top;\n",
              "    }\n",
              "\n",
              "    .dataframe thead th {\n",
              "        text-align: right;\n",
              "    }\n",
              "</style>\n",
              "<table border=\"1\" class=\"dataframe\">\n",
              "  <thead>\n",
              "    <tr style=\"text-align: right;\">\n",
              "      <th></th>\n",
              "      <th>Cricket</th>\n",
              "      <th>BaseBall</th>\n",
              "      <th>Tennis</th>\n",
              "    </tr>\n",
              "  </thead>\n",
              "  <tbody>\n",
              "    <tr>\n",
              "      <th>0</th>\n",
              "      <td>1.0</td>\n",
              "      <td>5.0</td>\n",
              "      <td>1</td>\n",
              "    </tr>\n",
              "    <tr>\n",
              "      <th>1</th>\n",
              "      <td>2.0</td>\n",
              "      <td>NaN</td>\n",
              "      <td>2</td>\n",
              "    </tr>\n",
              "    <tr>\n",
              "      <th>3</th>\n",
              "      <td>4.0</td>\n",
              "      <td>5.0</td>\n",
              "      <td>4</td>\n",
              "    </tr>\n",
              "    <tr>\n",
              "      <th>4</th>\n",
              "      <td>6.0</td>\n",
              "      <td>7.0</td>\n",
              "      <td>5</td>\n",
              "    </tr>\n",
              "    <tr>\n",
              "      <th>5</th>\n",
              "      <td>7.0</td>\n",
              "      <td>2.0</td>\n",
              "      <td>6</td>\n",
              "    </tr>\n",
              "    <tr>\n",
              "      <th>6</th>\n",
              "      <td>2.0</td>\n",
              "      <td>4.0</td>\n",
              "      <td>7</td>\n",
              "    </tr>\n",
              "    <tr>\n",
              "      <th>7</th>\n",
              "      <td>NaN</td>\n",
              "      <td>5.0</td>\n",
              "      <td>8</td>\n",
              "    </tr>\n",
              "  </tbody>\n",
              "</table>\n",
              "</div>"
            ],
            "text/plain": [
              "   Cricket  BaseBall  Tennis\n",
              "0      1.0       5.0       1\n",
              "1      2.0       NaN       2\n",
              "3      4.0       5.0       4\n",
              "4      6.0       7.0       5\n",
              "5      7.0       2.0       6\n",
              "6      2.0       4.0       7\n",
              "7      NaN       5.0       8"
            ]
          },
          "metadata": {
            "tags": []
          },
          "execution_count": 46
        }
      ]
    },
    {
      "cell_type": "code",
      "metadata": {
        "id": "36IdlhccC4OQ",
        "outputId": "164cf1b8-c9e0-43f7-cf90-a126247ec390",
        "colab": {
          "base_uri": "https://localhost:8080/",
          "height": 204
        }
      },
      "source": [
        "dataframe.dropna(thresh= 3)\n",
        "#Atleast 3 non NAN values"
      ],
      "execution_count": 50,
      "outputs": [
        {
          "output_type": "execute_result",
          "data": {
            "text/html": [
              "<div>\n",
              "<style scoped>\n",
              "    .dataframe tbody tr th:only-of-type {\n",
              "        vertical-align: middle;\n",
              "    }\n",
              "\n",
              "    .dataframe tbody tr th {\n",
              "        vertical-align: top;\n",
              "    }\n",
              "\n",
              "    .dataframe thead th {\n",
              "        text-align: right;\n",
              "    }\n",
              "</style>\n",
              "<table border=\"1\" class=\"dataframe\">\n",
              "  <thead>\n",
              "    <tr style=\"text-align: right;\">\n",
              "      <th></th>\n",
              "      <th>Cricket</th>\n",
              "      <th>BaseBall</th>\n",
              "      <th>Tennis</th>\n",
              "    </tr>\n",
              "  </thead>\n",
              "  <tbody>\n",
              "    <tr>\n",
              "      <th>0</th>\n",
              "      <td>1.0</td>\n",
              "      <td>5.0</td>\n",
              "      <td>1</td>\n",
              "    </tr>\n",
              "    <tr>\n",
              "      <th>3</th>\n",
              "      <td>4.0</td>\n",
              "      <td>5.0</td>\n",
              "      <td>4</td>\n",
              "    </tr>\n",
              "    <tr>\n",
              "      <th>4</th>\n",
              "      <td>6.0</td>\n",
              "      <td>7.0</td>\n",
              "      <td>5</td>\n",
              "    </tr>\n",
              "    <tr>\n",
              "      <th>5</th>\n",
              "      <td>7.0</td>\n",
              "      <td>2.0</td>\n",
              "      <td>6</td>\n",
              "    </tr>\n",
              "    <tr>\n",
              "      <th>6</th>\n",
              "      <td>2.0</td>\n",
              "      <td>4.0</td>\n",
              "      <td>7</td>\n",
              "    </tr>\n",
              "  </tbody>\n",
              "</table>\n",
              "</div>"
            ],
            "text/plain": [
              "   Cricket  BaseBall  Tennis\n",
              "0      1.0       5.0       1\n",
              "3      4.0       5.0       4\n",
              "4      6.0       7.0       5\n",
              "5      7.0       2.0       6\n",
              "6      2.0       4.0       7"
            ]
          },
          "metadata": {
            "tags": []
          },
          "execution_count": 50
        }
      ]
    },
    {
      "cell_type": "code",
      "metadata": {
        "id": "Dk06Yq8mDKGE",
        "outputId": "e4364534-93c2-4a22-b85e-67e5a0f4c42a",
        "colab": {
          "base_uri": "https://localhost:8080/",
          "height": 297
        }
      },
      "source": [
        "dataframe.dropna(thresh= 1)"
      ],
      "execution_count": 48,
      "outputs": [
        {
          "output_type": "execute_result",
          "data": {
            "text/html": [
              "<div>\n",
              "<style scoped>\n",
              "    .dataframe tbody tr th:only-of-type {\n",
              "        vertical-align: middle;\n",
              "    }\n",
              "\n",
              "    .dataframe tbody tr th {\n",
              "        vertical-align: top;\n",
              "    }\n",
              "\n",
              "    .dataframe thead th {\n",
              "        text-align: right;\n",
              "    }\n",
              "</style>\n",
              "<table border=\"1\" class=\"dataframe\">\n",
              "  <thead>\n",
              "    <tr style=\"text-align: right;\">\n",
              "      <th></th>\n",
              "      <th>Cricket</th>\n",
              "      <th>BaseBall</th>\n",
              "      <th>Tennis</th>\n",
              "    </tr>\n",
              "  </thead>\n",
              "  <tbody>\n",
              "    <tr>\n",
              "      <th>0</th>\n",
              "      <td>1.0</td>\n",
              "      <td>5.0</td>\n",
              "      <td>1</td>\n",
              "    </tr>\n",
              "    <tr>\n",
              "      <th>1</th>\n",
              "      <td>2.0</td>\n",
              "      <td>NaN</td>\n",
              "      <td>2</td>\n",
              "    </tr>\n",
              "    <tr>\n",
              "      <th>2</th>\n",
              "      <td>NaN</td>\n",
              "      <td>NaN</td>\n",
              "      <td>3</td>\n",
              "    </tr>\n",
              "    <tr>\n",
              "      <th>3</th>\n",
              "      <td>4.0</td>\n",
              "      <td>5.0</td>\n",
              "      <td>4</td>\n",
              "    </tr>\n",
              "    <tr>\n",
              "      <th>4</th>\n",
              "      <td>6.0</td>\n",
              "      <td>7.0</td>\n",
              "      <td>5</td>\n",
              "    </tr>\n",
              "    <tr>\n",
              "      <th>5</th>\n",
              "      <td>7.0</td>\n",
              "      <td>2.0</td>\n",
              "      <td>6</td>\n",
              "    </tr>\n",
              "    <tr>\n",
              "      <th>6</th>\n",
              "      <td>2.0</td>\n",
              "      <td>4.0</td>\n",
              "      <td>7</td>\n",
              "    </tr>\n",
              "    <tr>\n",
              "      <th>7</th>\n",
              "      <td>NaN</td>\n",
              "      <td>5.0</td>\n",
              "      <td>8</td>\n",
              "    </tr>\n",
              "  </tbody>\n",
              "</table>\n",
              "</div>"
            ],
            "text/plain": [
              "   Cricket  BaseBall  Tennis\n",
              "0      1.0       5.0       1\n",
              "1      2.0       NaN       2\n",
              "2      NaN       NaN       3\n",
              "3      4.0       5.0       4\n",
              "4      6.0       7.0       5\n",
              "5      7.0       2.0       6\n",
              "6      2.0       4.0       7\n",
              "7      NaN       5.0       8"
            ]
          },
          "metadata": {
            "tags": []
          },
          "execution_count": 48
        }
      ]
    },
    {
      "cell_type": "code",
      "metadata": {
        "id": "ot5rCS7iDOug",
        "outputId": "e0fcfa39-9e12-4072-bd6b-2f69e67969be",
        "colab": {
          "base_uri": "https://localhost:8080/",
          "height": 297
        }
      },
      "source": [
        "dataframe.dropna(thresh= 0)"
      ],
      "execution_count": 49,
      "outputs": [
        {
          "output_type": "execute_result",
          "data": {
            "text/html": [
              "<div>\n",
              "<style scoped>\n",
              "    .dataframe tbody tr th:only-of-type {\n",
              "        vertical-align: middle;\n",
              "    }\n",
              "\n",
              "    .dataframe tbody tr th {\n",
              "        vertical-align: top;\n",
              "    }\n",
              "\n",
              "    .dataframe thead th {\n",
              "        text-align: right;\n",
              "    }\n",
              "</style>\n",
              "<table border=\"1\" class=\"dataframe\">\n",
              "  <thead>\n",
              "    <tr style=\"text-align: right;\">\n",
              "      <th></th>\n",
              "      <th>Cricket</th>\n",
              "      <th>BaseBall</th>\n",
              "      <th>Tennis</th>\n",
              "    </tr>\n",
              "  </thead>\n",
              "  <tbody>\n",
              "    <tr>\n",
              "      <th>0</th>\n",
              "      <td>1.0</td>\n",
              "      <td>5.0</td>\n",
              "      <td>1</td>\n",
              "    </tr>\n",
              "    <tr>\n",
              "      <th>1</th>\n",
              "      <td>2.0</td>\n",
              "      <td>NaN</td>\n",
              "      <td>2</td>\n",
              "    </tr>\n",
              "    <tr>\n",
              "      <th>2</th>\n",
              "      <td>NaN</td>\n",
              "      <td>NaN</td>\n",
              "      <td>3</td>\n",
              "    </tr>\n",
              "    <tr>\n",
              "      <th>3</th>\n",
              "      <td>4.0</td>\n",
              "      <td>5.0</td>\n",
              "      <td>4</td>\n",
              "    </tr>\n",
              "    <tr>\n",
              "      <th>4</th>\n",
              "      <td>6.0</td>\n",
              "      <td>7.0</td>\n",
              "      <td>5</td>\n",
              "    </tr>\n",
              "    <tr>\n",
              "      <th>5</th>\n",
              "      <td>7.0</td>\n",
              "      <td>2.0</td>\n",
              "      <td>6</td>\n",
              "    </tr>\n",
              "    <tr>\n",
              "      <th>6</th>\n",
              "      <td>2.0</td>\n",
              "      <td>4.0</td>\n",
              "      <td>7</td>\n",
              "    </tr>\n",
              "    <tr>\n",
              "      <th>7</th>\n",
              "      <td>NaN</td>\n",
              "      <td>5.0</td>\n",
              "      <td>8</td>\n",
              "    </tr>\n",
              "  </tbody>\n",
              "</table>\n",
              "</div>"
            ],
            "text/plain": [
              "   Cricket  BaseBall  Tennis\n",
              "0      1.0       5.0       1\n",
              "1      2.0       NaN       2\n",
              "2      NaN       NaN       3\n",
              "3      4.0       5.0       4\n",
              "4      6.0       7.0       5\n",
              "5      7.0       2.0       6\n",
              "6      2.0       4.0       7\n",
              "7      NaN       5.0       8"
            ]
          },
          "metadata": {
            "tags": []
          },
          "execution_count": 49
        }
      ]
    },
    {
      "cell_type": "code",
      "metadata": {
        "id": "R5bNJkxXDSX_",
        "outputId": "090b9277-2188-4b3c-f7c1-dcdc69db2ac8",
        "colab": {
          "base_uri": "https://localhost:8080/",
          "height": 297
        }
      },
      "source": [
        "dataframe.fillna(value = 0)"
      ],
      "execution_count": 51,
      "outputs": [
        {
          "output_type": "execute_result",
          "data": {
            "text/html": [
              "<div>\n",
              "<style scoped>\n",
              "    .dataframe tbody tr th:only-of-type {\n",
              "        vertical-align: middle;\n",
              "    }\n",
              "\n",
              "    .dataframe tbody tr th {\n",
              "        vertical-align: top;\n",
              "    }\n",
              "\n",
              "    .dataframe thead th {\n",
              "        text-align: right;\n",
              "    }\n",
              "</style>\n",
              "<table border=\"1\" class=\"dataframe\">\n",
              "  <thead>\n",
              "    <tr style=\"text-align: right;\">\n",
              "      <th></th>\n",
              "      <th>Cricket</th>\n",
              "      <th>BaseBall</th>\n",
              "      <th>Tennis</th>\n",
              "    </tr>\n",
              "  </thead>\n",
              "  <tbody>\n",
              "    <tr>\n",
              "      <th>0</th>\n",
              "      <td>1.0</td>\n",
              "      <td>5.0</td>\n",
              "      <td>1</td>\n",
              "    </tr>\n",
              "    <tr>\n",
              "      <th>1</th>\n",
              "      <td>2.0</td>\n",
              "      <td>0.0</td>\n",
              "      <td>2</td>\n",
              "    </tr>\n",
              "    <tr>\n",
              "      <th>2</th>\n",
              "      <td>0.0</td>\n",
              "      <td>0.0</td>\n",
              "      <td>3</td>\n",
              "    </tr>\n",
              "    <tr>\n",
              "      <th>3</th>\n",
              "      <td>4.0</td>\n",
              "      <td>5.0</td>\n",
              "      <td>4</td>\n",
              "    </tr>\n",
              "    <tr>\n",
              "      <th>4</th>\n",
              "      <td>6.0</td>\n",
              "      <td>7.0</td>\n",
              "      <td>5</td>\n",
              "    </tr>\n",
              "    <tr>\n",
              "      <th>5</th>\n",
              "      <td>7.0</td>\n",
              "      <td>2.0</td>\n",
              "      <td>6</td>\n",
              "    </tr>\n",
              "    <tr>\n",
              "      <th>6</th>\n",
              "      <td>2.0</td>\n",
              "      <td>4.0</td>\n",
              "      <td>7</td>\n",
              "    </tr>\n",
              "    <tr>\n",
              "      <th>7</th>\n",
              "      <td>0.0</td>\n",
              "      <td>5.0</td>\n",
              "      <td>8</td>\n",
              "    </tr>\n",
              "  </tbody>\n",
              "</table>\n",
              "</div>"
            ],
            "text/plain": [
              "   Cricket  BaseBall  Tennis\n",
              "0      1.0       5.0       1\n",
              "1      2.0       0.0       2\n",
              "2      0.0       0.0       3\n",
              "3      4.0       5.0       4\n",
              "4      6.0       7.0       5\n",
              "5      7.0       2.0       6\n",
              "6      2.0       4.0       7\n",
              "7      0.0       5.0       8"
            ]
          },
          "metadata": {
            "tags": []
          },
          "execution_count": 51
        }
      ]
    },
    {
      "cell_type": "code",
      "metadata": {
        "id": "3sGs1yERDf4R",
        "outputId": "80dd797c-834f-4f85-c355-a83d38ab5c45",
        "colab": {
          "base_uri": "https://localhost:8080/",
          "height": 297
        }
      },
      "source": [
        "dataframe"
      ],
      "execution_count": 52,
      "outputs": [
        {
          "output_type": "execute_result",
          "data": {
            "text/html": [
              "<div>\n",
              "<style scoped>\n",
              "    .dataframe tbody tr th:only-of-type {\n",
              "        vertical-align: middle;\n",
              "    }\n",
              "\n",
              "    .dataframe tbody tr th {\n",
              "        vertical-align: top;\n",
              "    }\n",
              "\n",
              "    .dataframe thead th {\n",
              "        text-align: right;\n",
              "    }\n",
              "</style>\n",
              "<table border=\"1\" class=\"dataframe\">\n",
              "  <thead>\n",
              "    <tr style=\"text-align: right;\">\n",
              "      <th></th>\n",
              "      <th>Cricket</th>\n",
              "      <th>BaseBall</th>\n",
              "      <th>Tennis</th>\n",
              "    </tr>\n",
              "  </thead>\n",
              "  <tbody>\n",
              "    <tr>\n",
              "      <th>0</th>\n",
              "      <td>1.0</td>\n",
              "      <td>5.0</td>\n",
              "      <td>1</td>\n",
              "    </tr>\n",
              "    <tr>\n",
              "      <th>1</th>\n",
              "      <td>2.0</td>\n",
              "      <td>NaN</td>\n",
              "      <td>2</td>\n",
              "    </tr>\n",
              "    <tr>\n",
              "      <th>2</th>\n",
              "      <td>NaN</td>\n",
              "      <td>NaN</td>\n",
              "      <td>3</td>\n",
              "    </tr>\n",
              "    <tr>\n",
              "      <th>3</th>\n",
              "      <td>4.0</td>\n",
              "      <td>5.0</td>\n",
              "      <td>4</td>\n",
              "    </tr>\n",
              "    <tr>\n",
              "      <th>4</th>\n",
              "      <td>6.0</td>\n",
              "      <td>7.0</td>\n",
              "      <td>5</td>\n",
              "    </tr>\n",
              "    <tr>\n",
              "      <th>5</th>\n",
              "      <td>7.0</td>\n",
              "      <td>2.0</td>\n",
              "      <td>6</td>\n",
              "    </tr>\n",
              "    <tr>\n",
              "      <th>6</th>\n",
              "      <td>2.0</td>\n",
              "      <td>4.0</td>\n",
              "      <td>7</td>\n",
              "    </tr>\n",
              "    <tr>\n",
              "      <th>7</th>\n",
              "      <td>NaN</td>\n",
              "      <td>5.0</td>\n",
              "      <td>8</td>\n",
              "    </tr>\n",
              "  </tbody>\n",
              "</table>\n",
              "</div>"
            ],
            "text/plain": [
              "   Cricket  BaseBall  Tennis\n",
              "0      1.0       5.0       1\n",
              "1      2.0       NaN       2\n",
              "2      NaN       NaN       3\n",
              "3      4.0       5.0       4\n",
              "4      6.0       7.0       5\n",
              "5      7.0       2.0       6\n",
              "6      2.0       4.0       7\n",
              "7      NaN       5.0       8"
            ]
          },
          "metadata": {
            "tags": []
          },
          "execution_count": 52
        }
      ]
    },
    {
      "cell_type": "code",
      "metadata": {
        "id": "B6aHTNs7DjvU",
        "outputId": "ec4f43cb-3ceb-4cc6-d26d-f85d1b905495",
        "colab": {
          "base_uri": "https://localhost:8080/"
        }
      },
      "source": [
        "dataframe.info()"
      ],
      "execution_count": 53,
      "outputs": [
        {
          "output_type": "stream",
          "text": [
            "<class 'pandas.core.frame.DataFrame'>\n",
            "RangeIndex: 8 entries, 0 to 7\n",
            "Data columns (total 3 columns):\n",
            " #   Column    Non-Null Count  Dtype  \n",
            "---  ------    --------------  -----  \n",
            " 0   Cricket   6 non-null      float64\n",
            " 1   BaseBall  6 non-null      float64\n",
            " 2   Tennis    8 non-null      int64  \n",
            "dtypes: float64(2), int64(1)\n",
            "memory usage: 320.0 bytes\n"
          ],
          "name": "stdout"
        }
      ]
    },
    {
      "cell_type": "code",
      "metadata": {
        "id": "qOlJmF5DDnY3",
        "outputId": "5ba5aadb-8cfd-447f-950b-79e015868f8d",
        "colab": {
          "base_uri": "https://localhost:8080/",
          "height": 297
        }
      },
      "source": [
        "dataframe.isna()"
      ],
      "execution_count": 54,
      "outputs": [
        {
          "output_type": "execute_result",
          "data": {
            "text/html": [
              "<div>\n",
              "<style scoped>\n",
              "    .dataframe tbody tr th:only-of-type {\n",
              "        vertical-align: middle;\n",
              "    }\n",
              "\n",
              "    .dataframe tbody tr th {\n",
              "        vertical-align: top;\n",
              "    }\n",
              "\n",
              "    .dataframe thead th {\n",
              "        text-align: right;\n",
              "    }\n",
              "</style>\n",
              "<table border=\"1\" class=\"dataframe\">\n",
              "  <thead>\n",
              "    <tr style=\"text-align: right;\">\n",
              "      <th></th>\n",
              "      <th>Cricket</th>\n",
              "      <th>BaseBall</th>\n",
              "      <th>Tennis</th>\n",
              "    </tr>\n",
              "  </thead>\n",
              "  <tbody>\n",
              "    <tr>\n",
              "      <th>0</th>\n",
              "      <td>False</td>\n",
              "      <td>False</td>\n",
              "      <td>False</td>\n",
              "    </tr>\n",
              "    <tr>\n",
              "      <th>1</th>\n",
              "      <td>False</td>\n",
              "      <td>True</td>\n",
              "      <td>False</td>\n",
              "    </tr>\n",
              "    <tr>\n",
              "      <th>2</th>\n",
              "      <td>True</td>\n",
              "      <td>True</td>\n",
              "      <td>False</td>\n",
              "    </tr>\n",
              "    <tr>\n",
              "      <th>3</th>\n",
              "      <td>False</td>\n",
              "      <td>False</td>\n",
              "      <td>False</td>\n",
              "    </tr>\n",
              "    <tr>\n",
              "      <th>4</th>\n",
              "      <td>False</td>\n",
              "      <td>False</td>\n",
              "      <td>False</td>\n",
              "    </tr>\n",
              "    <tr>\n",
              "      <th>5</th>\n",
              "      <td>False</td>\n",
              "      <td>False</td>\n",
              "      <td>False</td>\n",
              "    </tr>\n",
              "    <tr>\n",
              "      <th>6</th>\n",
              "      <td>False</td>\n",
              "      <td>False</td>\n",
              "      <td>False</td>\n",
              "    </tr>\n",
              "    <tr>\n",
              "      <th>7</th>\n",
              "      <td>True</td>\n",
              "      <td>False</td>\n",
              "      <td>False</td>\n",
              "    </tr>\n",
              "  </tbody>\n",
              "</table>\n",
              "</div>"
            ],
            "text/plain": [
              "   Cricket  BaseBall  Tennis\n",
              "0    False     False   False\n",
              "1    False      True   False\n",
              "2     True      True   False\n",
              "3    False     False   False\n",
              "4    False     False   False\n",
              "5    False     False   False\n",
              "6    False     False   False\n",
              "7     True     False   False"
            ]
          },
          "metadata": {
            "tags": []
          },
          "execution_count": 54
        }
      ]
    },
    {
      "cell_type": "code",
      "metadata": {
        "id": "lX2t2_7gDw-l",
        "outputId": "d163c77c-ffce-4fab-d656-a3b72d94e408",
        "colab": {
          "base_uri": "https://localhost:8080/"
        }
      },
      "source": [
        "dataframe.isna().sum()"
      ],
      "execution_count": 55,
      "outputs": [
        {
          "output_type": "execute_result",
          "data": {
            "text/plain": [
              "Cricket     2\n",
              "BaseBall    2\n",
              "Tennis      0\n",
              "dtype: int64"
            ]
          },
          "metadata": {
            "tags": []
          },
          "execution_count": 55
        }
      ]
    },
    {
      "cell_type": "code",
      "metadata": {
        "id": "mvl2jiMlD1_E",
        "outputId": "f7a5474e-3549-43a7-d170-8b597ff378bb",
        "colab": {
          "base_uri": "https://localhost:8080/"
        }
      },
      "source": [
        "dataframe['BaseBall'].median()"
      ],
      "execution_count": 56,
      "outputs": [
        {
          "output_type": "execute_result",
          "data": {
            "text/plain": [
              "5.0"
            ]
          },
          "metadata": {
            "tags": []
          },
          "execution_count": 56
        }
      ]
    },
    {
      "cell_type": "code",
      "metadata": {
        "id": "C56sqsYOD8SE",
        "outputId": "9e284e06-60d3-4bbc-c22d-d807be222e8a",
        "colab": {
          "base_uri": "https://localhost:8080/"
        }
      },
      "source": [
        "dataframe['BaseBall'].fillna(value = dataframe['BaseBall'].median())"
      ],
      "execution_count": 58,
      "outputs": [
        {
          "output_type": "execute_result",
          "data": {
            "text/plain": [
              "0    5.0\n",
              "1    5.0\n",
              "2    5.0\n",
              "3    5.0\n",
              "4    7.0\n",
              "5    2.0\n",
              "6    4.0\n",
              "7    5.0\n",
              "Name: BaseBall, dtype: float64"
            ]
          },
          "metadata": {
            "tags": []
          },
          "execution_count": 58
        }
      ]
    },
    {
      "cell_type": "code",
      "metadata": {
        "id": "hgt3C7sWD_Cd",
        "outputId": "b50934da-487e-460a-de40-fd24a2a5929f",
        "colab": {
          "base_uri": "https://localhost:8080/"
        }
      },
      "source": [
        "dataframe['BaseBall']"
      ],
      "execution_count": 59,
      "outputs": [
        {
          "output_type": "execute_result",
          "data": {
            "text/plain": [
              "0    5.0\n",
              "1    NaN\n",
              "2    NaN\n",
              "3    5.0\n",
              "4    7.0\n",
              "5    2.0\n",
              "6    4.0\n",
              "7    5.0\n",
              "Name: BaseBall, dtype: float64"
            ]
          },
          "metadata": {
            "tags": []
          },
          "execution_count": 59
        }
      ]
    },
    {
      "cell_type": "code",
      "metadata": {
        "id": "UWFvvpzfELjD"
      },
      "source": [
        ""
      ],
      "execution_count": null,
      "outputs": []
    }
  ]
}